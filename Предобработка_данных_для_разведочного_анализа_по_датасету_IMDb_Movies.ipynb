{
  "cells": [
    {
      "cell_type": "markdown",
      "metadata": {
        "id": "view-in-github",
        "colab_type": "text"
      },
      "source": [
        "<a href=\"https://colab.research.google.com/github/ekaterinaevd/films_IMDb/blob/main/%D0%9F%D1%80%D0%B5%D0%B4%D0%BE%D0%B1%D1%80%D0%B0%D0%B1%D0%BE%D1%82%D0%BA%D0%B0_%D0%B4%D0%B0%D0%BD%D0%BD%D1%8B%D1%85_%D0%B4%D0%BB%D1%8F_%D1%80%D0%B0%D0%B7%D0%B2%D0%B5%D0%B4%D0%BE%D1%87%D0%BD%D0%BE%D0%B3%D0%BE_%D0%B0%D0%BD%D0%B0%D0%BB%D0%B8%D0%B7%D0%B0_%D0%BF%D0%BE_%D0%B4%D0%B0%D1%82%D0%B0%D1%81%D0%B5%D1%82%D1%83_IMDb_Movies.ipynb\" target=\"_parent\"><img src=\"https://colab.research.google.com/assets/colab-badge.svg\" alt=\"Open In Colab\"/></a>"
      ]
    },
    {
      "cell_type": "markdown",
      "source": [
        "# **Разведочный анализ по датасету IMDb Movies: 5000 фильмов с наибольшим рейтингом. Часть 1: Обзор и предобработка данных**"
      ],
      "metadata": {
        "id": "L2Epn7UHiXfS"
      }
    },
    {
      "cell_type": "markdown",
      "source": [
        "![](https://adabul.com/wp-content/uploads/2020/04/diziler-360x240.jpg)"
      ],
      "metadata": {
        "id": "uF5OyCiAZ7Bn"
      }
    },
    {
      "cell_type": "markdown",
      "source": [
        "## 1. Описание датасета и задания"
      ],
      "metadata": {
        "id": "jgCIJe8tjIvI"
      }
    },
    {
      "cell_type": "markdown",
      "source": [
        "Представлен датасет с данными о 5000 фильмах, имеющих наибольший рейтинг на сайте IMDb (датасет выложен на платформе [Kaggle](https://www.kaggle.com/datasets/totoro29/imdb-movies))."
      ],
      "metadata": {
        "id": "ODZr1pzSjUEZ"
      }
    },
    {
      "cell_type": "markdown",
      "source": [
        "***Информация, содержащаяся в датасете:***\n",
        "1.   Ссылка на постер фильма (poster).\n",
        "2.   Наименование фильма (title).\n",
        "3.   Класс фильма по рейтингу the British Board of Film Classification (BBFC) (certificate).\n",
        "4.   Продолжительность фильма (runtime).\n",
        "5.   Жанр фильма (genre).\n",
        "6.   Рейтинг фильма на платформе IMBD (rating).\n",
        "7.   Описание сюжета фильма (about).\n",
        "8.   Кинорежиссер фильма (director).\n",
        "9.   Актеры-звезды фильма (stars).\n",
        "10.  Количество проголосовавших за фильм (votes).\n",
        "11.  Доход с фильма (gross_earn).\n",
        "\n"
      ],
      "metadata": {
        "id": "wU83gIaOVmSq"
      }
    },
    {
      "cell_type": "markdown",
      "source": [
        "***Задача:***\n",
        "провести разведочный анализ данных, найти взаимосвязи и сформулировать выводы."
      ],
      "metadata": {
        "id": "peR0dY_JVeCJ"
      }
    },
    {
      "cell_type": "markdown",
      "source": [
        "**В части 1 задания необходимо:**\n",
        "1.   Выполнить обзор данных.\n",
        "2.   Оценить датасет на наличие дубликатов и при необходимости обработать их.\n",
        "3.   Оценить признаки на наличие пропусков и при необходимости обработать их.\n",
        "4.   Привести данные к необходимому для анализа типу.\n",
        "5.   Отсортировать и сохранить датасет для дальнейшего анализа.\n",
        "\n",
        "\n",
        "\n",
        "\n",
        "\n"
      ],
      "metadata": {
        "id": "Ef42FcCzkpb9"
      }
    },
    {
      "cell_type": "markdown",
      "source": [
        "## 2. Загрузка датасета"
      ],
      "metadata": {
        "id": "Tjg16j1yj7h3"
      }
    },
    {
      "cell_type": "code",
      "source": [
        "# при ошибке загрузки в текущей версии gdown необходимо его обновить\n",
        "!pip install --upgrade gdown"
      ],
      "metadata": {
        "id": "DAjG5ez-ZZ1y",
        "colab": {
          "base_uri": "https://localhost:8080/"
        },
        "outputId": "6b988f9c-cf59-45fd-a821-9928dabe6714"
      },
      "execution_count": null,
      "outputs": [
        {
          "output_type": "stream",
          "name": "stdout",
          "text": [
            "Requirement already satisfied: gdown in /usr/local/lib/python3.11/dist-packages (5.2.0)\n",
            "Requirement already satisfied: beautifulsoup4 in /usr/local/lib/python3.11/dist-packages (from gdown) (4.13.3)\n",
            "Requirement already satisfied: filelock in /usr/local/lib/python3.11/dist-packages (from gdown) (3.17.0)\n",
            "Requirement already satisfied: requests[socks] in /usr/local/lib/python3.11/dist-packages (from gdown) (2.32.3)\n",
            "Requirement already satisfied: tqdm in /usr/local/lib/python3.11/dist-packages (from gdown) (4.67.1)\n",
            "Requirement already satisfied: soupsieve>1.2 in /usr/local/lib/python3.11/dist-packages (from beautifulsoup4->gdown) (2.6)\n",
            "Requirement already satisfied: typing-extensions>=4.0.0 in /usr/local/lib/python3.11/dist-packages (from beautifulsoup4->gdown) (4.12.2)\n",
            "Requirement already satisfied: charset-normalizer<4,>=2 in /usr/local/lib/python3.11/dist-packages (from requests[socks]->gdown) (3.4.1)\n",
            "Requirement already satisfied: idna<4,>=2.5 in /usr/local/lib/python3.11/dist-packages (from requests[socks]->gdown) (3.10)\n",
            "Requirement already satisfied: urllib3<3,>=1.21.1 in /usr/local/lib/python3.11/dist-packages (from requests[socks]->gdown) (2.3.0)\n",
            "Requirement already satisfied: certifi>=2017.4.17 in /usr/local/lib/python3.11/dist-packages (from requests[socks]->gdown) (2025.1.31)\n",
            "Requirement already satisfied: PySocks!=1.5.7,>=1.5.6 in /usr/local/lib/python3.11/dist-packages (from requests[socks]->gdown) (1.7.1)\n"
          ]
        }
      ]
    },
    {
      "cell_type": "code",
      "source": [
        "!gdown --id 1SQihqE13h5sEVzLSaBn9f2l_FdMtxNQb"
      ],
      "metadata": {
        "id": "hXVPxaqzkA1T",
        "colab": {
          "base_uri": "https://localhost:8080/"
        },
        "outputId": "d6611719-ce29-4edd-fec9-a40135eb4fb3"
      },
      "execution_count": null,
      "outputs": [
        {
          "output_type": "stream",
          "name": "stdout",
          "text": [
            "/usr/local/lib/python3.11/dist-packages/gdown/__main__.py:140: FutureWarning: Option `--id` was deprecated in version 4.3.1 and will be removed in 5.0. You don't need to pass it anymore to use a file ID.\n",
            "  warnings.warn(\n",
            "Downloading...\n",
            "From: https://drive.google.com/uc?id=1SQihqE13h5sEVzLSaBn9f2l_FdMtxNQb\n",
            "To: /content/movies.csv\n",
            "100% 1.89M/1.89M [00:00<00:00, 85.3MB/s]\n"
          ]
        }
      ]
    },
    {
      "cell_type": "markdown",
      "source": [
        "## 3. Подгрузка данных в питон и начало работы с ними"
      ],
      "metadata": {
        "id": "Ui2UmktdkfBX"
      }
    },
    {
      "cell_type": "markdown",
      "source": [
        "Импортируйте библиотеку pandas и присвойте ей короткое название pd"
      ],
      "metadata": {
        "id": "GOhi3LqkhwaO"
      }
    },
    {
      "cell_type": "code",
      "execution_count": null,
      "metadata": {
        "id": "HDirS7pLCdac"
      },
      "outputs": [],
      "source": [
        "import pandas as pd"
      ]
    },
    {
      "cell_type": "markdown",
      "source": [
        "Откройте датасет movies.csv и сохраните его в переменную dataset"
      ],
      "metadata": {
        "id": "XNGRVqpyh28Y"
      }
    },
    {
      "cell_type": "code",
      "execution_count": null,
      "metadata": {
        "id": "PXy_b8D-DYxq"
      },
      "outputs": [],
      "source": [
        "dataset = pd.read_csv('movies.csv')"
      ]
    },
    {
      "cell_type": "markdown",
      "source": [
        "Проведите обзор таблицы с помощью метода head()"
      ],
      "metadata": {
        "id": "v5G-GfyWiZUg"
      }
    },
    {
      "cell_type": "code",
      "source": [
        "dataset.head()"
      ],
      "metadata": {
        "id": "777NV7RZkwos",
        "colab": {
          "base_uri": "https://localhost:8080/",
          "height": 642
        },
        "outputId": "cbe48aa9-9c3c-42ae-ea86-9ea547f4954b"
      },
      "execution_count": null,
      "outputs": [
        {
          "output_type": "execute_result",
          "data": {
            "text/plain": [
              "                                              poster  \\\n",
              "0  https://m.media-amazon.com/images/S/sash/4Fyxw...   \n",
              "1  https://m.media-amazon.com/images/S/sash/4Fyxw...   \n",
              "2  https://m.media-amazon.com/images/S/sash/4Fyxw...   \n",
              "3  https://m.media-amazon.com/images/S/sash/4Fyxw...   \n",
              "4  https://m.media-amazon.com/images/S/sash/4Fyxw...   \n",
              "\n",
              "                      title certificate  runtime                      genre  \\\n",
              "0  The Shawshank Redemption          15  142 min                      Drama   \n",
              "1           The Dark Knight         12A  152 min       Action, Crime, Drama   \n",
              "2                 Inception         12A  148 min  Action, Adventure, Sci-Fi   \n",
              "3                Fight Club          18  139 min                      Drama   \n",
              "4              Pulp Fiction          18  154 min               Crime, Drama   \n",
              "\n",
              "   rating                                              about  \\\n",
              "0     9.3  Two imprisoned men bond over a number of years...   \n",
              "1     9.0  When the menace known as the Joker wreaks havo...   \n",
              "2     8.8  A thief who steals corporate secrets through t...   \n",
              "3     8.8  An insomniac office worker and a devil-may-car...   \n",
              "4     8.9  The lives of two mob hitmen, a boxer, a gangst...   \n",
              "\n",
              "            director                                              stars  \\\n",
              "0     Frank Darabont  ('Tim Robbins',), ('Morgan Freeman',), ('Bob G...   \n",
              "1  Christopher Nolan  ('Christian Bale',), ('Heath Ledger',), ('Aaro...   \n",
              "2  Christopher Nolan  ('Leonardo DiCaprio',), ('Joseph Gordon-Levitt...   \n",
              "3      David Fincher  ('Brad Pitt',), ('Edward Norton',), ('Meat Loa...   \n",
              "4  Quentin Tarantino  ('John Travolta',), ('Uma Thurman',), ('Samuel...   \n",
              "\n",
              "       votes gross_earn  \n",
              "0  26,26,905    $28.34M  \n",
              "1  25,98,173   $534.86M  \n",
              "2  23,04,062   $292.58M  \n",
              "3  20,71,088    $37.03M  \n",
              "4  20,11,013   $107.93M  "
            ],
            "text/html": [
              "\n",
              "  <div id=\"df-0c0371d1-ffa9-4868-861b-4f0b2ce25062\" class=\"colab-df-container\">\n",
              "    <div>\n",
              "<style scoped>\n",
              "    .dataframe tbody tr th:only-of-type {\n",
              "        vertical-align: middle;\n",
              "    }\n",
              "\n",
              "    .dataframe tbody tr th {\n",
              "        vertical-align: top;\n",
              "    }\n",
              "\n",
              "    .dataframe thead th {\n",
              "        text-align: right;\n",
              "    }\n",
              "</style>\n",
              "<table border=\"1\" class=\"dataframe\">\n",
              "  <thead>\n",
              "    <tr style=\"text-align: right;\">\n",
              "      <th></th>\n",
              "      <th>poster</th>\n",
              "      <th>title</th>\n",
              "      <th>certificate</th>\n",
              "      <th>runtime</th>\n",
              "      <th>genre</th>\n",
              "      <th>rating</th>\n",
              "      <th>about</th>\n",
              "      <th>director</th>\n",
              "      <th>stars</th>\n",
              "      <th>votes</th>\n",
              "      <th>gross_earn</th>\n",
              "    </tr>\n",
              "  </thead>\n",
              "  <tbody>\n",
              "    <tr>\n",
              "      <th>0</th>\n",
              "      <td>https://m.media-amazon.com/images/S/sash/4Fyxw...</td>\n",
              "      <td>The Shawshank Redemption</td>\n",
              "      <td>15</td>\n",
              "      <td>142 min</td>\n",
              "      <td>Drama</td>\n",
              "      <td>9.3</td>\n",
              "      <td>Two imprisoned men bond over a number of years...</td>\n",
              "      <td>Frank Darabont</td>\n",
              "      <td>('Tim Robbins',), ('Morgan Freeman',), ('Bob G...</td>\n",
              "      <td>26,26,905</td>\n",
              "      <td>$28.34M</td>\n",
              "    </tr>\n",
              "    <tr>\n",
              "      <th>1</th>\n",
              "      <td>https://m.media-amazon.com/images/S/sash/4Fyxw...</td>\n",
              "      <td>The Dark Knight</td>\n",
              "      <td>12A</td>\n",
              "      <td>152 min</td>\n",
              "      <td>Action, Crime, Drama</td>\n",
              "      <td>9.0</td>\n",
              "      <td>When the menace known as the Joker wreaks havo...</td>\n",
              "      <td>Christopher Nolan</td>\n",
              "      <td>('Christian Bale',), ('Heath Ledger',), ('Aaro...</td>\n",
              "      <td>25,98,173</td>\n",
              "      <td>$534.86M</td>\n",
              "    </tr>\n",
              "    <tr>\n",
              "      <th>2</th>\n",
              "      <td>https://m.media-amazon.com/images/S/sash/4Fyxw...</td>\n",
              "      <td>Inception</td>\n",
              "      <td>12A</td>\n",
              "      <td>148 min</td>\n",
              "      <td>Action, Adventure, Sci-Fi</td>\n",
              "      <td>8.8</td>\n",
              "      <td>A thief who steals corporate secrets through t...</td>\n",
              "      <td>Christopher Nolan</td>\n",
              "      <td>('Leonardo DiCaprio',), ('Joseph Gordon-Levitt...</td>\n",
              "      <td>23,04,062</td>\n",
              "      <td>$292.58M</td>\n",
              "    </tr>\n",
              "    <tr>\n",
              "      <th>3</th>\n",
              "      <td>https://m.media-amazon.com/images/S/sash/4Fyxw...</td>\n",
              "      <td>Fight Club</td>\n",
              "      <td>18</td>\n",
              "      <td>139 min</td>\n",
              "      <td>Drama</td>\n",
              "      <td>8.8</td>\n",
              "      <td>An insomniac office worker and a devil-may-car...</td>\n",
              "      <td>David Fincher</td>\n",
              "      <td>('Brad Pitt',), ('Edward Norton',), ('Meat Loa...</td>\n",
              "      <td>20,71,088</td>\n",
              "      <td>$37.03M</td>\n",
              "    </tr>\n",
              "    <tr>\n",
              "      <th>4</th>\n",
              "      <td>https://m.media-amazon.com/images/S/sash/4Fyxw...</td>\n",
              "      <td>Pulp Fiction</td>\n",
              "      <td>18</td>\n",
              "      <td>154 min</td>\n",
              "      <td>Crime, Drama</td>\n",
              "      <td>8.9</td>\n",
              "      <td>The lives of two mob hitmen, a boxer, a gangst...</td>\n",
              "      <td>Quentin Tarantino</td>\n",
              "      <td>('John Travolta',), ('Uma Thurman',), ('Samuel...</td>\n",
              "      <td>20,11,013</td>\n",
              "      <td>$107.93M</td>\n",
              "    </tr>\n",
              "  </tbody>\n",
              "</table>\n",
              "</div>\n",
              "    <div class=\"colab-df-buttons\">\n",
              "\n",
              "  <div class=\"colab-df-container\">\n",
              "    <button class=\"colab-df-convert\" onclick=\"convertToInteractive('df-0c0371d1-ffa9-4868-861b-4f0b2ce25062')\"\n",
              "            title=\"Convert this dataframe to an interactive table.\"\n",
              "            style=\"display:none;\">\n",
              "\n",
              "  <svg xmlns=\"http://www.w3.org/2000/svg\" height=\"24px\" viewBox=\"0 -960 960 960\">\n",
              "    <path d=\"M120-120v-720h720v720H120Zm60-500h600v-160H180v160Zm220 220h160v-160H400v160Zm0 220h160v-160H400v160ZM180-400h160v-160H180v160Zm440 0h160v-160H620v160ZM180-180h160v-160H180v160Zm440 0h160v-160H620v160Z\"/>\n",
              "  </svg>\n",
              "    </button>\n",
              "\n",
              "  <style>\n",
              "    .colab-df-container {\n",
              "      display:flex;\n",
              "      gap: 12px;\n",
              "    }\n",
              "\n",
              "    .colab-df-convert {\n",
              "      background-color: #E8F0FE;\n",
              "      border: none;\n",
              "      border-radius: 50%;\n",
              "      cursor: pointer;\n",
              "      display: none;\n",
              "      fill: #1967D2;\n",
              "      height: 32px;\n",
              "      padding: 0 0 0 0;\n",
              "      width: 32px;\n",
              "    }\n",
              "\n",
              "    .colab-df-convert:hover {\n",
              "      background-color: #E2EBFA;\n",
              "      box-shadow: 0px 1px 2px rgba(60, 64, 67, 0.3), 0px 1px 3px 1px rgba(60, 64, 67, 0.15);\n",
              "      fill: #174EA6;\n",
              "    }\n",
              "\n",
              "    .colab-df-buttons div {\n",
              "      margin-bottom: 4px;\n",
              "    }\n",
              "\n",
              "    [theme=dark] .colab-df-convert {\n",
              "      background-color: #3B4455;\n",
              "      fill: #D2E3FC;\n",
              "    }\n",
              "\n",
              "    [theme=dark] .colab-df-convert:hover {\n",
              "      background-color: #434B5C;\n",
              "      box-shadow: 0px 1px 3px 1px rgba(0, 0, 0, 0.15);\n",
              "      filter: drop-shadow(0px 1px 2px rgba(0, 0, 0, 0.3));\n",
              "      fill: #FFFFFF;\n",
              "    }\n",
              "  </style>\n",
              "\n",
              "    <script>\n",
              "      const buttonEl =\n",
              "        document.querySelector('#df-0c0371d1-ffa9-4868-861b-4f0b2ce25062 button.colab-df-convert');\n",
              "      buttonEl.style.display =\n",
              "        google.colab.kernel.accessAllowed ? 'block' : 'none';\n",
              "\n",
              "      async function convertToInteractive(key) {\n",
              "        const element = document.querySelector('#df-0c0371d1-ffa9-4868-861b-4f0b2ce25062');\n",
              "        const dataTable =\n",
              "          await google.colab.kernel.invokeFunction('convertToInteractive',\n",
              "                                                    [key], {});\n",
              "        if (!dataTable) return;\n",
              "\n",
              "        const docLinkHtml = 'Like what you see? Visit the ' +\n",
              "          '<a target=\"_blank\" href=https://colab.research.google.com/notebooks/data_table.ipynb>data table notebook</a>'\n",
              "          + ' to learn more about interactive tables.';\n",
              "        element.innerHTML = '';\n",
              "        dataTable['output_type'] = 'display_data';\n",
              "        await google.colab.output.renderOutput(dataTable, element);\n",
              "        const docLink = document.createElement('div');\n",
              "        docLink.innerHTML = docLinkHtml;\n",
              "        element.appendChild(docLink);\n",
              "      }\n",
              "    </script>\n",
              "  </div>\n",
              "\n",
              "\n",
              "<div id=\"df-3decd2ae-f9eb-4be5-9340-c53ba55ef3f2\">\n",
              "  <button class=\"colab-df-quickchart\" onclick=\"quickchart('df-3decd2ae-f9eb-4be5-9340-c53ba55ef3f2')\"\n",
              "            title=\"Suggest charts\"\n",
              "            style=\"display:none;\">\n",
              "\n",
              "<svg xmlns=\"http://www.w3.org/2000/svg\" height=\"24px\"viewBox=\"0 0 24 24\"\n",
              "     width=\"24px\">\n",
              "    <g>\n",
              "        <path d=\"M19 3H5c-1.1 0-2 .9-2 2v14c0 1.1.9 2 2 2h14c1.1 0 2-.9 2-2V5c0-1.1-.9-2-2-2zM9 17H7v-7h2v7zm4 0h-2V7h2v10zm4 0h-2v-4h2v4z\"/>\n",
              "    </g>\n",
              "</svg>\n",
              "  </button>\n",
              "\n",
              "<style>\n",
              "  .colab-df-quickchart {\n",
              "      --bg-color: #E8F0FE;\n",
              "      --fill-color: #1967D2;\n",
              "      --hover-bg-color: #E2EBFA;\n",
              "      --hover-fill-color: #174EA6;\n",
              "      --disabled-fill-color: #AAA;\n",
              "      --disabled-bg-color: #DDD;\n",
              "  }\n",
              "\n",
              "  [theme=dark] .colab-df-quickchart {\n",
              "      --bg-color: #3B4455;\n",
              "      --fill-color: #D2E3FC;\n",
              "      --hover-bg-color: #434B5C;\n",
              "      --hover-fill-color: #FFFFFF;\n",
              "      --disabled-bg-color: #3B4455;\n",
              "      --disabled-fill-color: #666;\n",
              "  }\n",
              "\n",
              "  .colab-df-quickchart {\n",
              "    background-color: var(--bg-color);\n",
              "    border: none;\n",
              "    border-radius: 50%;\n",
              "    cursor: pointer;\n",
              "    display: none;\n",
              "    fill: var(--fill-color);\n",
              "    height: 32px;\n",
              "    padding: 0;\n",
              "    width: 32px;\n",
              "  }\n",
              "\n",
              "  .colab-df-quickchart:hover {\n",
              "    background-color: var(--hover-bg-color);\n",
              "    box-shadow: 0 1px 2px rgba(60, 64, 67, 0.3), 0 1px 3px 1px rgba(60, 64, 67, 0.15);\n",
              "    fill: var(--button-hover-fill-color);\n",
              "  }\n",
              "\n",
              "  .colab-df-quickchart-complete:disabled,\n",
              "  .colab-df-quickchart-complete:disabled:hover {\n",
              "    background-color: var(--disabled-bg-color);\n",
              "    fill: var(--disabled-fill-color);\n",
              "    box-shadow: none;\n",
              "  }\n",
              "\n",
              "  .colab-df-spinner {\n",
              "    border: 2px solid var(--fill-color);\n",
              "    border-color: transparent;\n",
              "    border-bottom-color: var(--fill-color);\n",
              "    animation:\n",
              "      spin 1s steps(1) infinite;\n",
              "  }\n",
              "\n",
              "  @keyframes spin {\n",
              "    0% {\n",
              "      border-color: transparent;\n",
              "      border-bottom-color: var(--fill-color);\n",
              "      border-left-color: var(--fill-color);\n",
              "    }\n",
              "    20% {\n",
              "      border-color: transparent;\n",
              "      border-left-color: var(--fill-color);\n",
              "      border-top-color: var(--fill-color);\n",
              "    }\n",
              "    30% {\n",
              "      border-color: transparent;\n",
              "      border-left-color: var(--fill-color);\n",
              "      border-top-color: var(--fill-color);\n",
              "      border-right-color: var(--fill-color);\n",
              "    }\n",
              "    40% {\n",
              "      border-color: transparent;\n",
              "      border-right-color: var(--fill-color);\n",
              "      border-top-color: var(--fill-color);\n",
              "    }\n",
              "    60% {\n",
              "      border-color: transparent;\n",
              "      border-right-color: var(--fill-color);\n",
              "    }\n",
              "    80% {\n",
              "      border-color: transparent;\n",
              "      border-right-color: var(--fill-color);\n",
              "      border-bottom-color: var(--fill-color);\n",
              "    }\n",
              "    90% {\n",
              "      border-color: transparent;\n",
              "      border-bottom-color: var(--fill-color);\n",
              "    }\n",
              "  }\n",
              "</style>\n",
              "\n",
              "  <script>\n",
              "    async function quickchart(key) {\n",
              "      const quickchartButtonEl =\n",
              "        document.querySelector('#' + key + ' button');\n",
              "      quickchartButtonEl.disabled = true;  // To prevent multiple clicks.\n",
              "      quickchartButtonEl.classList.add('colab-df-spinner');\n",
              "      try {\n",
              "        const charts = await google.colab.kernel.invokeFunction(\n",
              "            'suggestCharts', [key], {});\n",
              "      } catch (error) {\n",
              "        console.error('Error during call to suggestCharts:', error);\n",
              "      }\n",
              "      quickchartButtonEl.classList.remove('colab-df-spinner');\n",
              "      quickchartButtonEl.classList.add('colab-df-quickchart-complete');\n",
              "    }\n",
              "    (() => {\n",
              "      let quickchartButtonEl =\n",
              "        document.querySelector('#df-3decd2ae-f9eb-4be5-9340-c53ba55ef3f2 button');\n",
              "      quickchartButtonEl.style.display =\n",
              "        google.colab.kernel.accessAllowed ? 'block' : 'none';\n",
              "    })();\n",
              "  </script>\n",
              "</div>\n",
              "    </div>\n",
              "  </div>\n"
            ],
            "application/vnd.google.colaboratory.intrinsic+json": {
              "type": "dataframe",
              "variable_name": "dataset",
              "summary": "{\n  \"name\": \"dataset\",\n  \"rows\": 5000,\n  \"fields\": [\n    {\n      \"column\": \"poster\",\n      \"properties\": {\n        \"dtype\": \"category\",\n        \"num_unique_values\": 1,\n        \"samples\": [\n          \"https://m.media-amazon.com/images/S/sash/4FyxwxECzL-U1J8.png\"\n        ],\n        \"semantic_type\": \"\",\n        \"description\": \"\"\n      }\n    },\n    {\n      \"column\": \"title\",\n      \"properties\": {\n        \"dtype\": \"string\",\n        \"num_unique_values\": 4891,\n        \"samples\": [\n          \"Fargo\"\n        ],\n        \"semantic_type\": \"\",\n        \"description\": \"\"\n      }\n    },\n    {\n      \"column\": \"certificate\",\n      \"properties\": {\n        \"dtype\": \"category\",\n        \"num_unique_values\": 39,\n        \"samples\": [\n          \"98 min\"\n        ],\n        \"semantic_type\": \"\",\n        \"description\": \"\"\n      }\n    },\n    {\n      \"column\": \"runtime\",\n      \"properties\": {\n        \"dtype\": \"category\",\n        \"num_unique_values\": 178,\n        \"samples\": [\n          \"162 min\"\n        ],\n        \"semantic_type\": \"\",\n        \"description\": \"\"\n      }\n    },\n    {\n      \"column\": \"genre\",\n      \"properties\": {\n        \"dtype\": \"category\",\n        \"num_unique_values\": 346,\n        \"samples\": [\n          \"Horror\"\n        ],\n        \"semantic_type\": \"\",\n        \"description\": \"\"\n      }\n    },\n    {\n      \"column\": \"rating\",\n      \"properties\": {\n        \"dtype\": \"number\",\n        \"std\": 0.9736489657272285,\n        \"min\": 1.5,\n        \"max\": 9.3,\n        \"num_unique_values\": 74,\n        \"samples\": [\n          8.7\n        ],\n        \"semantic_type\": \"\",\n        \"description\": \"\"\n      }\n    },\n    {\n      \"column\": \"about\",\n      \"properties\": {\n        \"dtype\": \"string\",\n        \"num_unique_values\": 4976,\n        \"samples\": [\n          \"Mary Surratt is the lone female charged as a co-conspirator in the assassination trial of Abraham Lincoln. As the whole nation turns against her, she is forced to rely on her reluctant lawyer to uncover the truth and save her life.\"\n        ],\n        \"semantic_type\": \"\",\n        \"description\": \"\"\n      }\n    },\n    {\n      \"column\": \"director\",\n      \"properties\": {\n        \"dtype\": \"category\",\n        \"num_unique_values\": 1969,\n        \"samples\": [\n          \"Walter Hill\"\n        ],\n        \"semantic_type\": \"\",\n        \"description\": \"\"\n      }\n    },\n    {\n      \"column\": \"stars\",\n      \"properties\": {\n        \"dtype\": \"string\",\n        \"num_unique_values\": 4969,\n        \"samples\": [\n          \"('Tom Cruise',), ('Cameron Diaz',), ('Peter Sarsgaard',), ('Jordi Moll\\u00e0',)\"\n        ],\n        \"semantic_type\": \"\",\n        \"description\": \"\"\n      }\n    },\n    {\n      \"column\": \"votes\",\n      \"properties\": {\n        \"dtype\": \"string\",\n        \"num_unique_values\": 4918,\n        \"samples\": [\n          \"3,71,808\"\n        ],\n        \"semantic_type\": \"\",\n        \"description\": \"\"\n      }\n    },\n    {\n      \"column\": \"gross_earn\",\n      \"properties\": {\n        \"dtype\": \"string\",\n        \"num_unique_values\": 3372,\n        \"samples\": [\n          \"$3.01M\"\n        ],\n        \"semantic_type\": \"\",\n        \"description\": \"\"\n      }\n    }\n  ]\n}"
            }
          },
          "metadata": {},
          "execution_count": 88
        }
      ]
    },
    {
      "cell_type": "markdown",
      "source": [
        "## 4. Оценка размеров датасета, наличия дубликатов и пропусков"
      ],
      "metadata": {
        "id": "3uHWsjiUlAVn"
      }
    },
    {
      "cell_type": "markdown",
      "source": [
        "Оцените размеры датасета с помощью атрибута shape"
      ],
      "metadata": {
        "id": "pKCuhhm4feDW"
      }
    },
    {
      "cell_type": "code",
      "execution_count": null,
      "metadata": {
        "id": "Mbniz7lAHMdW",
        "colab": {
          "base_uri": "https://localhost:8080/"
        },
        "outputId": "91d3523f-df53-4155-99a6-54615f1d686b"
      },
      "outputs": [
        {
          "output_type": "execute_result",
          "data": {
            "text/plain": [
              "(5000, 11)"
            ]
          },
          "metadata": {},
          "execution_count": 89
        }
      ],
      "source": [
        "dataset.shape"
      ]
    },
    {
      "cell_type": "markdown",
      "source": [
        "Выведите информацию о датасете с помощью метода info(). Оцените признаки и типы данных, обратите внимание на пропущенные значения"
      ],
      "metadata": {
        "id": "-JVqJfqofmEp"
      }
    },
    {
      "cell_type": "code",
      "source": [
        "dataset.info()"
      ],
      "metadata": {
        "id": "Rb9-5dw7lL-_",
        "colab": {
          "base_uri": "https://localhost:8080/"
        },
        "outputId": "39dd8ae1-0caf-4db8-f8d3-09cee45ecebd"
      },
      "execution_count": null,
      "outputs": [
        {
          "output_type": "stream",
          "name": "stdout",
          "text": [
            "<class 'pandas.core.frame.DataFrame'>\n",
            "RangeIndex: 5000 entries, 0 to 4999\n",
            "Data columns (total 11 columns):\n",
            " #   Column       Non-Null Count  Dtype  \n",
            "---  ------       --------------  -----  \n",
            " 0   poster       5000 non-null   object \n",
            " 1   title        5000 non-null   object \n",
            " 2   certificate  5000 non-null   object \n",
            " 3   runtime      5000 non-null   object \n",
            " 4   genre        4970 non-null   object \n",
            " 5   rating       5000 non-null   float64\n",
            " 6   about        4986 non-null   object \n",
            " 7   director     5000 non-null   object \n",
            " 8   stars        5000 non-null   object \n",
            " 9   votes        5000 non-null   object \n",
            " 10  gross_earn   4585 non-null   object \n",
            "dtypes: float64(1), object(10)\n",
            "memory usage: 429.8+ KB\n"
          ]
        }
      ]
    },
    {
      "cell_type": "markdown",
      "source": [
        "Оцените наличие дубликатов в датасете с помощью метода duplicated() в связке с sum() (при необходимости исключите полные дубликаты)"
      ],
      "metadata": {
        "id": "AqF3KuIugDUA"
      }
    },
    {
      "cell_type": "code",
      "execution_count": null,
      "metadata": {
        "id": "Q_MAd-7IHVev",
        "colab": {
          "base_uri": "https://localhost:8080/"
        },
        "outputId": "26ebe781-ab57-441a-bddc-91f6a3d7df66"
      },
      "outputs": [
        {
          "output_type": "execute_result",
          "data": {
            "text/plain": [
              "109"
            ]
          },
          "metadata": {},
          "execution_count": 91
        }
      ],
      "source": [
        "dataset.duplicated(subset=['title']).sum()"
      ]
    },
    {
      "cell_type": "code",
      "source": [
        "dataset.duplicated(subset=['about']).sum()"
      ],
      "metadata": {
        "colab": {
          "base_uri": "https://localhost:8080/"
        },
        "id": "uHGCvOkvvlNJ",
        "outputId": "3f913ff2-ec21-4b2f-e72e-a0cc3ef8f8d9"
      },
      "execution_count": null,
      "outputs": [
        {
          "output_type": "execute_result",
          "data": {
            "text/plain": [
              "23"
            ]
          },
          "metadata": {},
          "execution_count": 92
        }
      ]
    },
    {
      "cell_type": "markdown",
      "source": [
        "P.s. бывают ситуации, когда нет необходимости удалять дубликаты, т.к. их наличие может нести ценную информацию при анализе."
      ],
      "metadata": {
        "id": "93d03vUNlDZr"
      }
    },
    {
      "cell_type": "markdown",
      "source": [
        "Оцените наличие пропущенных значений в датасете по признаку gross_earn"
      ],
      "metadata": {
        "id": "mDDGcBNhg4CH"
      }
    },
    {
      "cell_type": "code",
      "source": [
        "dataset['gross_earn'].isna().sum()"
      ],
      "metadata": {
        "id": "ibVN4eMgl3bF",
        "colab": {
          "base_uri": "https://localhost:8080/"
        },
        "outputId": "8a23f558-baff-41fa-ca2f-eb770b48b5df"
      },
      "execution_count": null,
      "outputs": [
        {
          "output_type": "execute_result",
          "data": {
            "text/plain": [
              "415"
            ]
          },
          "metadata": {},
          "execution_count": 93
        }
      ]
    },
    {
      "cell_type": "markdown",
      "source": [
        "P.s. не стоит исключать наблюдения с пропущенными значениями на этапе предобработки датасета, если нет жесткого требования это делать. Так можно потерять информацию по другим более значимым признакам. Кроме того, их наличие может нести ценную информацию при анализе."
      ],
      "metadata": {
        "id": "ockjWssjjvDF"
      }
    },
    {
      "cell_type": "markdown",
      "source": [
        "**Выводы:**\n",
        ">1. Размеры датасета - 5000 х 11\n",
        ">2. Типы данных - object(10) и float64(1), нужна предобработка: перевод данных типа object в тип str и int64/float64\n",
        ">3. Полные дубликаты отсутствуют. Есть дубликаты по признаку 'title' и 'about', возможно, будет необходимо их исключение.\n",
        ">4. Есть пропущенные значения по признакам 'genre', 'about' и 'gross_earn', возможно потребуется предобработка\n",
        ">5. При анализе могут возникнуть проблемы установления взаимосвязей между признаками, имеющими пропуски и дубликаты."
      ],
      "metadata": {
        "id": "g8VaEPz_kVPe"
      }
    },
    {
      "cell_type": "markdown",
      "source": [
        "Напишите выводы по разделу:\n",
        "1.   О размерах датасета (количество признаков и количество наблюдений).\n",
        "2.   О типах данных (какие есть и какие должны быть, нужна ли предобработа).\n",
        "3.   О дубликатах (их наличие, нужна ли предобработка).\n",
        "4.   О пропущенных значениях (их наличие, нужна ли предобработка).\n",
        "5.   О возможных проблемах, которые могут возникнуть при анализе.\n",
        "\n"
      ],
      "metadata": {
        "id": "gTrlw0afkaE4"
      }
    },
    {
      "cell_type": "markdown",
      "source": [
        "## 5. Обработка колонок runtime и gross_earn: приведение к числовому типу"
      ],
      "metadata": {
        "id": "Int1osF-mdy-"
      }
    },
    {
      "cell_type": "markdown",
      "source": [
        "Приведите значения признаков runtime и gross_earn к числовому типу, исключив лишние символы"
      ],
      "metadata": {
        "id": "pr-FxQ0Zlc-z"
      }
    },
    {
      "cell_type": "markdown",
      "source": [
        "### *5.1. runtime*"
      ],
      "metadata": {
        "id": "gp81b9DUrIEr"
      }
    },
    {
      "cell_type": "markdown",
      "source": [
        "Выведите Series ['runtime'] для детального просмотра данных"
      ],
      "metadata": {
        "id": "gcGr7u2Vm7Ny"
      }
    },
    {
      "cell_type": "code",
      "execution_count": null,
      "metadata": {
        "id": "B4HhGwUOKCfU",
        "colab": {
          "base_uri": "https://localhost:8080/"
        },
        "outputId": "dfc71565-a1eb-456a-c368-8f2e6bcf4e55"
      },
      "outputs": [
        {
          "output_type": "stream",
          "name": "stdout",
          "text": [
            "0              142 min\n",
            "1              152 min\n",
            "2              148 min\n",
            "3              139 min\n",
            "4              154 min\n",
            "             ...      \n",
            "4995           102 min\n",
            "4996            94 min\n",
            "4997    Drama, Romance\n",
            "4998            92 min\n",
            "4999           120 min\n",
            "Name: runtime, Length: 5000, dtype: object\n"
          ]
        }
      ],
      "source": [
        "runtime_series = dataset['runtime']\n",
        "print(runtime_series)"
      ]
    },
    {
      "cell_type": "markdown",
      "source": [
        "По индексу 4997 в признак попало аномальное значение - Drama, Romance"
      ],
      "metadata": {
        "id": "MuCBWTvJnEHF"
      }
    },
    {
      "cell_type": "markdown",
      "source": [
        "Выведите уникальные значения по Series ['runtime'] с помощью метода unique()"
      ],
      "metadata": {
        "id": "r8_UlDDRnSg1"
      }
    },
    {
      "cell_type": "code",
      "source": [
        "dataset['runtime'].unique()"
      ],
      "metadata": {
        "id": "PhrGIpCboJqC",
        "colab": {
          "base_uri": "https://localhost:8080/"
        },
        "outputId": "adda7196-9aed-40bb-f11f-62bb363c80a7"
      },
      "execution_count": null,
      "outputs": [
        {
          "output_type": "execute_result",
          "data": {
            "text/plain": [
              "array(['142 min', '152 min', '148 min', '139 min', '154 min', '178 min',\n",
              "       '136 min', '201 min', '175 min', '164 min', '179 min', '127 min',\n",
              "       '143 min', '155 min', '140 min', '165 min', '169 min', '121 min',\n",
              "       '118 min', '162 min', '153 min', '151 min', '195 min', '113 min',\n",
              "       '130 min', '124 min', '122 min', '194 min', '132 min', '202 min',\n",
              "       '138 min', '119 min', '189 min', '180 min', '137 min', '106 min',\n",
              "       '111 min', '116 min', '145 min', '110 min', '98 min', '107 min',\n",
              "       '126 min', '100 min', '131 min', '133 min', '103 min', '108 min',\n",
              "       '96 min', '99 min', '115 min', '88 min', '120 min', '81 min',\n",
              "       '135 min', '146 min', '117 min', '104 min', '92 min', '91 min',\n",
              "       '102 min', '149 min', '170 min', '112 min', '101 min', '141 min',\n",
              "       '144 min', '114 min', '150 min', '90 min', '161 min', '128 min',\n",
              "       '93 min', '129 min', '166 min', '147 min', '134 min', '109 min',\n",
              "       '105 min', '125 min', '156 min', '123 min', '95 min', '157 min',\n",
              "       '163 min', '158 min', '89 min', '187 min', '167 min', '84 min',\n",
              "       '94 min', '85 min', '172 min', '160 min', '168 min', '86 min',\n",
              "       '97 min', '87 min', '183 min', '188 min', '207 min', '159 min',\n",
              "       '76 min', '229 min', '238 min', '83 min', '218 min', '77 min',\n",
              "       '181 min', '191 min', '80 min', '212 min', '78 min', '79 min',\n",
              "       '82 min', '74 min', '185 min', '75 min', '197 min', '69 min',\n",
              "       '64 min', '224 min', '68 min', '210 min', '177 min', '193 min',\n",
              "       '67 min', '174 min', '70 min', '220 min', '321 min', 'Comedy',\n",
              "       '186 min', 'Action, Crime, Mystery', '198 min', '58 min',\n",
              "       'Comedy, Drama, Romance', 'Comedy, Romance', '192 min', '242 min',\n",
              "       'Horror', '204 min', 'Comedy, Drama', '171 min', '63 min',\n",
              "       'Horror, Sci-Fi, Thriller', 'Action, Biography, Drama', '182 min',\n",
              "       '176 min', '196 min', 'Drama', '205 min', 'Action, Drama, War',\n",
              "       '71 min', '259 min', '45 min', 'Fantasy, Romance',\n",
              "       'Action, Crime, Comedy', 'Crime, Drama, Mystery',\n",
              "       'Action, Adventure, Drama', 'Drama, Horror, Mystery',\n",
              "       'Crime, Mystery', '213 min', '72 min', '216 min',\n",
              "       'Comedy, Western', '317 min', 'Adventure, Drama, Romance',\n",
              "       'Fantasy, Horror', 'Adventure, Comedy', 'Comedy, Family',\n",
              "       'Adventure, Comedy, Romance', '366 min', 'Action, Comedy',\n",
              "       'Adventure, Comedy, Fantasy', 'Action, Crime, Thriller',\n",
              "       'Action, Adventure, Sci-Fi', 'Drama, Romance'], dtype=object)"
            ]
          },
          "metadata": {},
          "execution_count": 95
        }
      ]
    },
    {
      "cell_type": "markdown",
      "source": [
        "Таких аномальных значений несколько. Следует исключить их из датасета"
      ],
      "metadata": {
        "id": "aX6ujpINnqVX"
      }
    },
    {
      "cell_type": "markdown",
      "source": [
        "Импортируйте библиотеку re"
      ],
      "metadata": {
        "id": "TZAtdQlbn9IE"
      }
    },
    {
      "cell_type": "code",
      "source": [
        "import re"
      ],
      "metadata": {
        "id": "-YjdyM_7o1aq"
      },
      "execution_count": null,
      "outputs": []
    },
    {
      "cell_type": "markdown",
      "source": [
        "Напишите функцию, которая исключит нецифровые символы с помощью регулярных выражений"
      ],
      "metadata": {
        "id": "JHI-nCi8n_AA"
      }
    },
    {
      "cell_type": "code",
      "source": [
        "def clear_runtime(runtime):\n",
        "  \"\"\"\n",
        "  Исключает нецифровые символы с помощью регулярных выражений\n",
        "\n",
        "  Аргументы:\n",
        "  runtime(object) - продолжительность фильма\n",
        "\n",
        "  Возвращает:\n",
        "  runtime(object) — строка, содержащая только цифры.\n",
        "\n",
        "  \"\"\"\n",
        "  return re.sub(r'\\D', '', runtime)\n"
      ],
      "metadata": {
        "id": "bYp8o4HVoZ2v"
      },
      "execution_count": null,
      "outputs": []
    },
    {
      "cell_type": "markdown",
      "source": [
        "Примените функцию к Series ['runtime'] с помощью метода apply()"
      ],
      "metadata": {
        "id": "_8glouCioP_6"
      }
    },
    {
      "cell_type": "code",
      "source": [
        "dataset['runtime'].apply(clear_runtime)"
      ],
      "metadata": {
        "id": "vNc3QynOos0-",
        "colab": {
          "base_uri": "https://localhost:8080/",
          "height": 458
        },
        "outputId": "df81fba8-dcee-4fb6-aad7-fb30e4c0c25e"
      },
      "execution_count": null,
      "outputs": [
        {
          "output_type": "execute_result",
          "data": {
            "text/plain": [
              "0       142\n",
              "1       152\n",
              "2       148\n",
              "3       139\n",
              "4       154\n",
              "       ... \n",
              "4995    102\n",
              "4996     94\n",
              "4997       \n",
              "4998     92\n",
              "4999    120\n",
              "Name: runtime, Length: 5000, dtype: object"
            ],
            "text/html": [
              "<div>\n",
              "<style scoped>\n",
              "    .dataframe tbody tr th:only-of-type {\n",
              "        vertical-align: middle;\n",
              "    }\n",
              "\n",
              "    .dataframe tbody tr th {\n",
              "        vertical-align: top;\n",
              "    }\n",
              "\n",
              "    .dataframe thead th {\n",
              "        text-align: right;\n",
              "    }\n",
              "</style>\n",
              "<table border=\"1\" class=\"dataframe\">\n",
              "  <thead>\n",
              "    <tr style=\"text-align: right;\">\n",
              "      <th></th>\n",
              "      <th>runtime</th>\n",
              "    </tr>\n",
              "  </thead>\n",
              "  <tbody>\n",
              "    <tr>\n",
              "      <th>0</th>\n",
              "      <td>142</td>\n",
              "    </tr>\n",
              "    <tr>\n",
              "      <th>1</th>\n",
              "      <td>152</td>\n",
              "    </tr>\n",
              "    <tr>\n",
              "      <th>2</th>\n",
              "      <td>148</td>\n",
              "    </tr>\n",
              "    <tr>\n",
              "      <th>3</th>\n",
              "      <td>139</td>\n",
              "    </tr>\n",
              "    <tr>\n",
              "      <th>4</th>\n",
              "      <td>154</td>\n",
              "    </tr>\n",
              "    <tr>\n",
              "      <th>...</th>\n",
              "      <td>...</td>\n",
              "    </tr>\n",
              "    <tr>\n",
              "      <th>4995</th>\n",
              "      <td>102</td>\n",
              "    </tr>\n",
              "    <tr>\n",
              "      <th>4996</th>\n",
              "      <td>94</td>\n",
              "    </tr>\n",
              "    <tr>\n",
              "      <th>4997</th>\n",
              "      <td></td>\n",
              "    </tr>\n",
              "    <tr>\n",
              "      <th>4998</th>\n",
              "      <td>92</td>\n",
              "    </tr>\n",
              "    <tr>\n",
              "      <th>4999</th>\n",
              "      <td>120</td>\n",
              "    </tr>\n",
              "  </tbody>\n",
              "</table>\n",
              "<p>5000 rows × 1 columns</p>\n",
              "</div><br><label><b>dtype:</b> object</label>"
            ]
          },
          "metadata": {},
          "execution_count": 98
        }
      ]
    },
    {
      "cell_type": "markdown",
      "source": [
        "Создайте столбец runtime_clear в исходном датасете, применив функцию к признаку runtime"
      ],
      "metadata": {
        "id": "Id4WMbV5odI5"
      }
    },
    {
      "cell_type": "code",
      "source": [
        "dataset['runtime_clear'] = dataset['runtime'].apply(clear_runtime)"
      ],
      "metadata": {
        "id": "z134V_42pGVH"
      },
      "execution_count": null,
      "outputs": []
    },
    {
      "cell_type": "markdown",
      "source": [
        "Выведите Series ['runtime_clear'] для оценки результата"
      ],
      "metadata": {
        "id": "s3olTg3PopAk"
      }
    },
    {
      "cell_type": "code",
      "source": [
        "print(dataset['runtime_clear'])"
      ],
      "metadata": {
        "id": "a2qhTdfqpNZX",
        "colab": {
          "base_uri": "https://localhost:8080/"
        },
        "outputId": "58fe1803-9464-4861-be17-ddbb1e383a48"
      },
      "execution_count": null,
      "outputs": [
        {
          "output_type": "stream",
          "name": "stdout",
          "text": [
            "0       142\n",
            "1       152\n",
            "2       148\n",
            "3       139\n",
            "4       154\n",
            "       ... \n",
            "4995    102\n",
            "4996     94\n",
            "4997       \n",
            "4998     92\n",
            "4999    120\n",
            "Name: runtime_clear, Length: 5000, dtype: object\n"
          ]
        }
      ]
    },
    {
      "cell_type": "markdown",
      "source": [
        "По индексу 4997, где было аномальное значение, теперь на первый взгляд пустота. Проверьте, так ли это, с помощью метода isna()"
      ],
      "metadata": {
        "id": "EapFUrJwowuH"
      }
    },
    {
      "cell_type": "code",
      "source": [
        "dataset['runtime_clear'].isna().sum()"
      ],
      "metadata": {
        "id": "0vz9e_cDqNPW",
        "colab": {
          "base_uri": "https://localhost:8080/"
        },
        "outputId": "6fed5ee4-2185-4f46-c0eb-55cf665cf046"
      },
      "execution_count": null,
      "outputs": [
        {
          "output_type": "execute_result",
          "data": {
            "text/plain": [
              "0"
            ]
          },
          "metadata": {},
          "execution_count": 101
        }
      ]
    },
    {
      "cell_type": "markdown",
      "source": [
        "Количество пустых полей - 0... Посмотрите поближе, что же на самом деле записано в данном поле с помощью индексации датасет['столбец'][индекс]"
      ],
      "metadata": {
        "id": "uAKaRobspWFO"
      }
    },
    {
      "cell_type": "code",
      "source": [
        "dataset['runtime_clear'][4997]"
      ],
      "metadata": {
        "id": "iRzRAGhDpPMa",
        "colab": {
          "base_uri": "https://localhost:8080/",
          "height": 36
        },
        "outputId": "cc618e06-4ab6-43be-d4c8-93db0f2f4011"
      },
      "execution_count": null,
      "outputs": [
        {
          "output_type": "execute_result",
          "data": {
            "text/plain": [
              "''"
            ],
            "application/vnd.google.colaboratory.intrinsic+json": {
              "type": "string"
            }
          },
          "metadata": {},
          "execution_count": 102
        }
      ]
    },
    {
      "cell_type": "markdown",
      "source": [
        "Записано нулевое строковое значение. Убедитесь в этом, проверив тип данных с помощью функции type()"
      ],
      "metadata": {
        "id": "MPmEnBmBpwMs"
      }
    },
    {
      "cell_type": "code",
      "source": [
        "type(dataset['runtime_clear'][4997])"
      ],
      "metadata": {
        "id": "irGF6aBKpoYl",
        "colab": {
          "base_uri": "https://localhost:8080/"
        },
        "outputId": "795f69cc-89ff-4355-92ba-db74497c0e78"
      },
      "execution_count": null,
      "outputs": [
        {
          "output_type": "execute_result",
          "data": {
            "text/plain": [
              "str"
            ]
          },
          "metadata": {},
          "execution_count": 103
        }
      ]
    },
    {
      "cell_type": "markdown",
      "source": [
        "Действительно, это строковое значение. Отфильтруйте датасет, исключив все такие значения с помощью оператора !="
      ],
      "metadata": {
        "id": "7aXYnR-YqCwx"
      }
    },
    {
      "cell_type": "code",
      "source": [
        "dataset = dataset[dataset['runtime_clear']!='']"
      ],
      "metadata": {
        "id": "TbbsFoD2psjm"
      },
      "execution_count": null,
      "outputs": []
    },
    {
      "cell_type": "markdown",
      "source": [
        "Оцените размеры датасета с помощью атрибута shape"
      ],
      "metadata": {
        "id": "K63T4u-mqc9s"
      }
    },
    {
      "cell_type": "code",
      "source": [
        "dataset.shape"
      ],
      "metadata": {
        "id": "graH8Xv7qq9J",
        "colab": {
          "base_uri": "https://localhost:8080/"
        },
        "outputId": "ad7edbaf-156a-4fa3-b5eb-5ae33de91631"
      },
      "execution_count": null,
      "outputs": [
        {
          "output_type": "execute_result",
          "data": {
            "text/plain": [
              "(4970, 12)"
            ]
          },
          "metadata": {},
          "execution_count": 105
        }
      ]
    },
    {
      "cell_type": "markdown",
      "source": [
        "А также проверьте тип данных с помощью метода info()"
      ],
      "metadata": {
        "id": "najkeUhhqmaz"
      }
    },
    {
      "cell_type": "code",
      "source": [
        "dataset.info()"
      ],
      "metadata": {
        "id": "1f1SdjY5quE6",
        "colab": {
          "base_uri": "https://localhost:8080/"
        },
        "outputId": "f6b08b47-c903-4585-db37-9b9eebfd0ce2"
      },
      "execution_count": null,
      "outputs": [
        {
          "output_type": "stream",
          "name": "stdout",
          "text": [
            "<class 'pandas.core.frame.DataFrame'>\n",
            "Index: 4970 entries, 0 to 4999\n",
            "Data columns (total 12 columns):\n",
            " #   Column         Non-Null Count  Dtype  \n",
            "---  ------         --------------  -----  \n",
            " 0   poster         4970 non-null   object \n",
            " 1   title          4970 non-null   object \n",
            " 2   certificate    4970 non-null   object \n",
            " 3   runtime        4970 non-null   object \n",
            " 4   genre          4970 non-null   object \n",
            " 5   rating         4970 non-null   float64\n",
            " 6   about          4956 non-null   object \n",
            " 7   director       4970 non-null   object \n",
            " 8   stars          4970 non-null   object \n",
            " 9   votes          4970 non-null   object \n",
            " 10  gross_earn     4574 non-null   object \n",
            " 11  runtime_clear  4970 non-null   object \n",
            "dtypes: float64(1), object(11)\n",
            "memory usage: 504.8+ KB\n"
          ]
        }
      ]
    },
    {
      "cell_type": "markdown",
      "source": [
        "Приведите признак runtime_clear в формат int с помощью метода astype()"
      ],
      "metadata": {
        "id": "gqZC_f6-qxx5"
      }
    },
    {
      "cell_type": "code",
      "source": [
        "dataset['runtime_clear'] = dataset['runtime_clear'].astype(int)"
      ],
      "metadata": {
        "id": "VqTGqYK3n_BJ"
      },
      "execution_count": null,
      "outputs": []
    },
    {
      "cell_type": "markdown",
      "source": [
        "Проверьте тип данных с помощью метода info()"
      ],
      "metadata": {
        "id": "CEPHEs3-q_Bq"
      }
    },
    {
      "cell_type": "code",
      "source": [
        "dataset.info()"
      ],
      "metadata": {
        "id": "1HBemaU4rBcG",
        "colab": {
          "base_uri": "https://localhost:8080/"
        },
        "outputId": "4a8d09d5-cb50-49fb-ef22-e876483d4152"
      },
      "execution_count": null,
      "outputs": [
        {
          "output_type": "stream",
          "name": "stdout",
          "text": [
            "<class 'pandas.core.frame.DataFrame'>\n",
            "Index: 4970 entries, 0 to 4999\n",
            "Data columns (total 12 columns):\n",
            " #   Column         Non-Null Count  Dtype  \n",
            "---  ------         --------------  -----  \n",
            " 0   poster         4970 non-null   object \n",
            " 1   title          4970 non-null   object \n",
            " 2   certificate    4970 non-null   object \n",
            " 3   runtime        4970 non-null   object \n",
            " 4   genre          4970 non-null   object \n",
            " 5   rating         4970 non-null   float64\n",
            " 6   about          4956 non-null   object \n",
            " 7   director       4970 non-null   object \n",
            " 8   stars          4970 non-null   object \n",
            " 9   votes          4970 non-null   object \n",
            " 10  gross_earn     4574 non-null   object \n",
            " 11  runtime_clear  4970 non-null   int64  \n",
            "dtypes: float64(1), int64(1), object(10)\n",
            "memory usage: 504.8+ KB\n"
          ]
        }
      ]
    },
    {
      "cell_type": "markdown",
      "source": [
        "Тип данных - int64. Все получилось!"
      ],
      "metadata": {
        "id": "adSAGmwErDCR"
      }
    },
    {
      "cell_type": "markdown",
      "source": [
        "### *5.2. gross_earn*"
      ],
      "metadata": {
        "id": "a0otq-lsrRQn"
      }
    },
    {
      "cell_type": "markdown",
      "source": [
        "По аналогии приведите признак gross_earn к числовому типу данных"
      ],
      "metadata": {
        "id": "G0BQ0qP-rM_w"
      }
    },
    {
      "cell_type": "markdown",
      "source": [
        "Выведите Series ['gross_earn'] для детального просмотра данных"
      ],
      "metadata": {
        "id": "eBUu_knwrV3n"
      }
    },
    {
      "cell_type": "code",
      "execution_count": null,
      "metadata": {
        "id": "a5tCaUfZrotU",
        "colab": {
          "base_uri": "https://localhost:8080/"
        },
        "outputId": "0d832784-513f-4edb-b56d-ef16797ae3f7"
      },
      "outputs": [
        {
          "output_type": "stream",
          "name": "stdout",
          "text": [
            "0        $28.34M\n",
            "1       $534.86M\n",
            "2       $292.58M\n",
            "3        $37.03M\n",
            "4       $107.93M\n",
            "          ...   \n",
            "4994         NaN\n",
            "4995      $9.40M\n",
            "4996         NaN\n",
            "4998      $6.67M\n",
            "4999      $8.20M\n",
            "Name: gross_earn, Length: 4970, dtype: object\n"
          ]
        }
      ],
      "source": [
        "print(dataset['gross_earn'])"
      ]
    },
    {
      "cell_type": "markdown",
      "source": [
        "Напишите функцию, которая исключит нецифровые символы с помощью регулярных выражений. Подумайте, нужно ли оставлять при этом в них точку."
      ],
      "metadata": {
        "id": "uqKoqt1HrZnd"
      }
    },
    {
      "cell_type": "code",
      "source": [
        "def clear_gross_earn(gross_earn):\n",
        "  \"\"\"\n",
        "  Исключает нецифровые символы с помощью регулярных выражений\n",
        "\n",
        "  Аргументы:\n",
        "  gross_earn(object) - продолжительность фильма\n",
        "\n",
        "  Возвращает:\n",
        "  gross_earn(object) — строка, содержащая только цифры.\n",
        "\n",
        "  \"\"\"\n",
        "  return re.sub(r'[^0-9.]', '', gross_earn)"
      ],
      "metadata": {
        "id": "HyxrxpfProtX"
      },
      "execution_count": null,
      "outputs": []
    },
    {
      "cell_type": "markdown",
      "source": [
        "Примените функцию к Series ['gross_earn'] с помощью метода apply()"
      ],
      "metadata": {
        "id": "4xqDl81prgBz"
      }
    },
    {
      "cell_type": "code",
      "source": [
        "dataset['gross_earn'].apply(clear_gross_earn)"
      ],
      "metadata": {
        "id": "fWln7bTSrotY",
        "colab": {
          "base_uri": "https://localhost:8080/",
          "height": 321
        },
        "outputId": "4a8beb37-45e5-4dbe-990c-ce969926c2be"
      },
      "execution_count": null,
      "outputs": [
        {
          "output_type": "error",
          "ename": "TypeError",
          "evalue": "expected string or bytes-like object, got 'float'",
          "traceback": [
            "\u001b[0;31m---------------------------------------------------------------------------\u001b[0m",
            "\u001b[0;31mTypeError\u001b[0m                                 Traceback (most recent call last)",
            "\u001b[0;32m<ipython-input-111-d1486cb428e8>\u001b[0m in \u001b[0;36m<cell line: 0>\u001b[0;34m()\u001b[0m\n\u001b[0;32m----> 1\u001b[0;31m \u001b[0mdataset\u001b[0m\u001b[0;34m[\u001b[0m\u001b[0;34m'gross_earn'\u001b[0m\u001b[0;34m]\u001b[0m\u001b[0;34m.\u001b[0m\u001b[0mapply\u001b[0m\u001b[0;34m(\u001b[0m\u001b[0mclear_gross_earn\u001b[0m\u001b[0;34m)\u001b[0m\u001b[0;34m\u001b[0m\u001b[0;34m\u001b[0m\u001b[0m\n\u001b[0m",
            "\u001b[0;32m/usr/local/lib/python3.11/dist-packages/pandas/core/series.py\u001b[0m in \u001b[0;36mapply\u001b[0;34m(self, func, convert_dtype, args, by_row, **kwargs)\u001b[0m\n\u001b[1;32m   4922\u001b[0m             \u001b[0margs\u001b[0m\u001b[0;34m=\u001b[0m\u001b[0margs\u001b[0m\u001b[0;34m,\u001b[0m\u001b[0;34m\u001b[0m\u001b[0;34m\u001b[0m\u001b[0m\n\u001b[1;32m   4923\u001b[0m             \u001b[0mkwargs\u001b[0m\u001b[0;34m=\u001b[0m\u001b[0mkwargs\u001b[0m\u001b[0;34m,\u001b[0m\u001b[0;34m\u001b[0m\u001b[0;34m\u001b[0m\u001b[0m\n\u001b[0;32m-> 4924\u001b[0;31m         ).apply()\n\u001b[0m\u001b[1;32m   4925\u001b[0m \u001b[0;34m\u001b[0m\u001b[0m\n\u001b[1;32m   4926\u001b[0m     def _reindex_indexer(\n",
            "\u001b[0;32m/usr/local/lib/python3.11/dist-packages/pandas/core/apply.py\u001b[0m in \u001b[0;36mapply\u001b[0;34m(self)\u001b[0m\n\u001b[1;32m   1425\u001b[0m \u001b[0;34m\u001b[0m\u001b[0m\n\u001b[1;32m   1426\u001b[0m         \u001b[0;31m# self.func is Callable\u001b[0m\u001b[0;34m\u001b[0m\u001b[0;34m\u001b[0m\u001b[0m\n\u001b[0;32m-> 1427\u001b[0;31m         \u001b[0;32mreturn\u001b[0m \u001b[0mself\u001b[0m\u001b[0;34m.\u001b[0m\u001b[0mapply_standard\u001b[0m\u001b[0;34m(\u001b[0m\u001b[0;34m)\u001b[0m\u001b[0;34m\u001b[0m\u001b[0;34m\u001b[0m\u001b[0m\n\u001b[0m\u001b[1;32m   1428\u001b[0m \u001b[0;34m\u001b[0m\u001b[0m\n\u001b[1;32m   1429\u001b[0m     \u001b[0;32mdef\u001b[0m \u001b[0magg\u001b[0m\u001b[0;34m(\u001b[0m\u001b[0mself\u001b[0m\u001b[0;34m)\u001b[0m\u001b[0;34m:\u001b[0m\u001b[0;34m\u001b[0m\u001b[0;34m\u001b[0m\u001b[0m\n",
            "\u001b[0;32m/usr/local/lib/python3.11/dist-packages/pandas/core/apply.py\u001b[0m in \u001b[0;36mapply_standard\u001b[0;34m(self)\u001b[0m\n\u001b[1;32m   1505\u001b[0m         \u001b[0;31m#  Categorical (GH51645).\u001b[0m\u001b[0;34m\u001b[0m\u001b[0;34m\u001b[0m\u001b[0m\n\u001b[1;32m   1506\u001b[0m         \u001b[0maction\u001b[0m \u001b[0;34m=\u001b[0m \u001b[0;34m\"ignore\"\u001b[0m \u001b[0;32mif\u001b[0m \u001b[0misinstance\u001b[0m\u001b[0;34m(\u001b[0m\u001b[0mobj\u001b[0m\u001b[0;34m.\u001b[0m\u001b[0mdtype\u001b[0m\u001b[0;34m,\u001b[0m \u001b[0mCategoricalDtype\u001b[0m\u001b[0;34m)\u001b[0m \u001b[0;32melse\u001b[0m \u001b[0;32mNone\u001b[0m\u001b[0;34m\u001b[0m\u001b[0;34m\u001b[0m\u001b[0m\n\u001b[0;32m-> 1507\u001b[0;31m         mapped = obj._map_values(\n\u001b[0m\u001b[1;32m   1508\u001b[0m             \u001b[0mmapper\u001b[0m\u001b[0;34m=\u001b[0m\u001b[0mcurried\u001b[0m\u001b[0;34m,\u001b[0m \u001b[0mna_action\u001b[0m\u001b[0;34m=\u001b[0m\u001b[0maction\u001b[0m\u001b[0;34m,\u001b[0m \u001b[0mconvert\u001b[0m\u001b[0;34m=\u001b[0m\u001b[0mself\u001b[0m\u001b[0;34m.\u001b[0m\u001b[0mconvert_dtype\u001b[0m\u001b[0;34m\u001b[0m\u001b[0;34m\u001b[0m\u001b[0m\n\u001b[1;32m   1509\u001b[0m         )\n",
            "\u001b[0;32m/usr/local/lib/python3.11/dist-packages/pandas/core/base.py\u001b[0m in \u001b[0;36m_map_values\u001b[0;34m(self, mapper, na_action, convert)\u001b[0m\n\u001b[1;32m    919\u001b[0m             \u001b[0;32mreturn\u001b[0m \u001b[0marr\u001b[0m\u001b[0;34m.\u001b[0m\u001b[0mmap\u001b[0m\u001b[0;34m(\u001b[0m\u001b[0mmapper\u001b[0m\u001b[0;34m,\u001b[0m \u001b[0mna_action\u001b[0m\u001b[0;34m=\u001b[0m\u001b[0mna_action\u001b[0m\u001b[0;34m)\u001b[0m\u001b[0;34m\u001b[0m\u001b[0;34m\u001b[0m\u001b[0m\n\u001b[1;32m    920\u001b[0m \u001b[0;34m\u001b[0m\u001b[0m\n\u001b[0;32m--> 921\u001b[0;31m         \u001b[0;32mreturn\u001b[0m \u001b[0malgorithms\u001b[0m\u001b[0;34m.\u001b[0m\u001b[0mmap_array\u001b[0m\u001b[0;34m(\u001b[0m\u001b[0marr\u001b[0m\u001b[0;34m,\u001b[0m \u001b[0mmapper\u001b[0m\u001b[0;34m,\u001b[0m \u001b[0mna_action\u001b[0m\u001b[0;34m=\u001b[0m\u001b[0mna_action\u001b[0m\u001b[0;34m,\u001b[0m \u001b[0mconvert\u001b[0m\u001b[0;34m=\u001b[0m\u001b[0mconvert\u001b[0m\u001b[0;34m)\u001b[0m\u001b[0;34m\u001b[0m\u001b[0;34m\u001b[0m\u001b[0m\n\u001b[0m\u001b[1;32m    922\u001b[0m \u001b[0;34m\u001b[0m\u001b[0m\n\u001b[1;32m    923\u001b[0m     \u001b[0;34m@\u001b[0m\u001b[0mfinal\u001b[0m\u001b[0;34m\u001b[0m\u001b[0;34m\u001b[0m\u001b[0m\n",
            "\u001b[0;32m/usr/local/lib/python3.11/dist-packages/pandas/core/algorithms.py\u001b[0m in \u001b[0;36mmap_array\u001b[0;34m(arr, mapper, na_action, convert)\u001b[0m\n\u001b[1;32m   1741\u001b[0m     \u001b[0mvalues\u001b[0m \u001b[0;34m=\u001b[0m \u001b[0marr\u001b[0m\u001b[0;34m.\u001b[0m\u001b[0mastype\u001b[0m\u001b[0;34m(\u001b[0m\u001b[0mobject\u001b[0m\u001b[0;34m,\u001b[0m \u001b[0mcopy\u001b[0m\u001b[0;34m=\u001b[0m\u001b[0;32mFalse\u001b[0m\u001b[0;34m)\u001b[0m\u001b[0;34m\u001b[0m\u001b[0;34m\u001b[0m\u001b[0m\n\u001b[1;32m   1742\u001b[0m     \u001b[0;32mif\u001b[0m \u001b[0mna_action\u001b[0m \u001b[0;32mis\u001b[0m \u001b[0;32mNone\u001b[0m\u001b[0;34m:\u001b[0m\u001b[0;34m\u001b[0m\u001b[0;34m\u001b[0m\u001b[0m\n\u001b[0;32m-> 1743\u001b[0;31m         \u001b[0;32mreturn\u001b[0m \u001b[0mlib\u001b[0m\u001b[0;34m.\u001b[0m\u001b[0mmap_infer\u001b[0m\u001b[0;34m(\u001b[0m\u001b[0mvalues\u001b[0m\u001b[0;34m,\u001b[0m \u001b[0mmapper\u001b[0m\u001b[0;34m,\u001b[0m \u001b[0mconvert\u001b[0m\u001b[0;34m=\u001b[0m\u001b[0mconvert\u001b[0m\u001b[0;34m)\u001b[0m\u001b[0;34m\u001b[0m\u001b[0;34m\u001b[0m\u001b[0m\n\u001b[0m\u001b[1;32m   1744\u001b[0m     \u001b[0;32melse\u001b[0m\u001b[0;34m:\u001b[0m\u001b[0;34m\u001b[0m\u001b[0;34m\u001b[0m\u001b[0m\n\u001b[1;32m   1745\u001b[0m         return lib.map_infer_mask(\n",
            "\u001b[0;32mlib.pyx\u001b[0m in \u001b[0;36mpandas._libs.lib.map_infer\u001b[0;34m()\u001b[0m\n",
            "\u001b[0;32m<ipython-input-110-9c38124e0db2>\u001b[0m in \u001b[0;36mclear_gross_earn\u001b[0;34m(gross_earn)\u001b[0m\n\u001b[1;32m     10\u001b[0m \u001b[0;34m\u001b[0m\u001b[0m\n\u001b[1;32m     11\u001b[0m   \"\"\"\n\u001b[0;32m---> 12\u001b[0;31m   \u001b[0;32mreturn\u001b[0m \u001b[0mre\u001b[0m\u001b[0;34m.\u001b[0m\u001b[0msub\u001b[0m\u001b[0;34m(\u001b[0m\u001b[0;34mr'[^0-9.]'\u001b[0m\u001b[0;34m,\u001b[0m \u001b[0;34m''\u001b[0m\u001b[0;34m,\u001b[0m \u001b[0mgross_earn\u001b[0m\u001b[0;34m)\u001b[0m\u001b[0;34m\u001b[0m\u001b[0;34m\u001b[0m\u001b[0m\n\u001b[0m",
            "\u001b[0;32m/usr/lib/python3.11/re/__init__.py\u001b[0m in \u001b[0;36msub\u001b[0;34m(pattern, repl, string, count, flags)\u001b[0m\n\u001b[1;32m    183\u001b[0m     \u001b[0ma\u001b[0m \u001b[0mcallable\u001b[0m\u001b[0;34m,\u001b[0m \u001b[0mit\u001b[0m\u001b[0;31m'\u001b[0m\u001b[0ms\u001b[0m \u001b[0mpassed\u001b[0m \u001b[0mthe\u001b[0m \u001b[0mMatch\u001b[0m \u001b[0mobject\u001b[0m \u001b[0;32mand\u001b[0m \u001b[0mmust\u001b[0m \u001b[0;32mreturn\u001b[0m\u001b[0;34m\u001b[0m\u001b[0;34m\u001b[0m\u001b[0m\n\u001b[1;32m    184\u001b[0m     a replacement string to be used.\"\"\"\n\u001b[0;32m--> 185\u001b[0;31m     \u001b[0;32mreturn\u001b[0m \u001b[0m_compile\u001b[0m\u001b[0;34m(\u001b[0m\u001b[0mpattern\u001b[0m\u001b[0;34m,\u001b[0m \u001b[0mflags\u001b[0m\u001b[0;34m)\u001b[0m\u001b[0;34m.\u001b[0m\u001b[0msub\u001b[0m\u001b[0;34m(\u001b[0m\u001b[0mrepl\u001b[0m\u001b[0;34m,\u001b[0m \u001b[0mstring\u001b[0m\u001b[0;34m,\u001b[0m \u001b[0mcount\u001b[0m\u001b[0;34m)\u001b[0m\u001b[0;34m\u001b[0m\u001b[0;34m\u001b[0m\u001b[0m\n\u001b[0m\u001b[1;32m    186\u001b[0m \u001b[0;34m\u001b[0m\u001b[0m\n\u001b[1;32m    187\u001b[0m \u001b[0;32mdef\u001b[0m \u001b[0msubn\u001b[0m\u001b[0;34m(\u001b[0m\u001b[0mpattern\u001b[0m\u001b[0;34m,\u001b[0m \u001b[0mrepl\u001b[0m\u001b[0;34m,\u001b[0m \u001b[0mstring\u001b[0m\u001b[0;34m,\u001b[0m \u001b[0mcount\u001b[0m\u001b[0;34m=\u001b[0m\u001b[0;36m0\u001b[0m\u001b[0;34m,\u001b[0m \u001b[0mflags\u001b[0m\u001b[0;34m=\u001b[0m\u001b[0;36m0\u001b[0m\u001b[0;34m)\u001b[0m\u001b[0;34m:\u001b[0m\u001b[0;34m\u001b[0m\u001b[0;34m\u001b[0m\u001b[0m\n",
            "\u001b[0;31mTypeError\u001b[0m: expected string or bytes-like object, got 'float'"
          ]
        }
      ]
    },
    {
      "cell_type": "markdown",
      "source": [
        "Ошибка TypeError, связанная с тем, что в какой-то момент в функцию попали пропущенные значения, которые она не смогла обработать"
      ],
      "metadata": {
        "id": "RAL5uqpnrmhY"
      }
    },
    {
      "cell_type": "markdown",
      "source": [
        "Оцените количество пропущенных значений по признаку с помощью метода isna() в связке с методом sum()"
      ],
      "metadata": {
        "id": "c_x8NDojr3rl"
      }
    },
    {
      "cell_type": "code",
      "source": [
        "dataset['gross_earn'].isna().sum()"
      ],
      "metadata": {
        "id": "AXWG2J1ErzQT",
        "colab": {
          "base_uri": "https://localhost:8080/"
        },
        "outputId": "379ec44e-80cf-413c-9f79-893451d3e0c2"
      },
      "execution_count": null,
      "outputs": [
        {
          "output_type": "execute_result",
          "data": {
            "text/plain": [
              "396"
            ]
          },
          "metadata": {},
          "execution_count": 112
        }
      ]
    },
    {
      "cell_type": "markdown",
      "source": [
        "Необходимо добавить в функцию обработку пустых значений. Для этого импортируйте библиотеку numpy с коротким наименованием np"
      ],
      "metadata": {
        "id": "GS11wCDTsAbW"
      }
    },
    {
      "cell_type": "code",
      "source": [
        "import numpy as np"
      ],
      "metadata": {
        "id": "hZP7gii2w0lN"
      },
      "execution_count": null,
      "outputs": []
    },
    {
      "cell_type": "markdown",
      "source": [
        "Добавьте в функцию проверку на пустые значения с помощью метода pandas pd.isna(). В случае пропуска она должна вернуть пустое значение np.nan; в ином случае - сохранить алгоритм, написанный ранее (переписывать функцию ниже не нужно; просто изучите, как она работает)"
      ],
      "metadata": {
        "id": "n8YBVKFXsNY-"
      }
    },
    {
      "cell_type": "code",
      "source": [
        "def clear_gross_earn(gross_earn):\n",
        "  if pd.isna(gross_earn):\n",
        "    return np.nan\n",
        "  else:\n",
        "    return re.sub('[^\\d\\.]', '', gross_earn)"
      ],
      "metadata": {
        "id": "herSamxHwxNo"
      },
      "execution_count": null,
      "outputs": []
    },
    {
      "cell_type": "markdown",
      "source": [
        "Примените функцию к Series ['gross_earn'] с помощью метода apply()"
      ],
      "metadata": {
        "id": "N1QwLObasy1l"
      }
    },
    {
      "cell_type": "code",
      "source": [
        "dataset['gross_earn'].apply(clear_gross_earn)"
      ],
      "metadata": {
        "id": "A6_Q4diKxC8V",
        "colab": {
          "base_uri": "https://localhost:8080/",
          "height": 458
        },
        "outputId": "1a6e5fb1-a5c5-41df-aaee-9e484c17d1cd"
      },
      "execution_count": null,
      "outputs": [
        {
          "output_type": "execute_result",
          "data": {
            "text/plain": [
              "0        28.34\n",
              "1       534.86\n",
              "2       292.58\n",
              "3        37.03\n",
              "4       107.93\n",
              "         ...  \n",
              "4994       NaN\n",
              "4995      9.40\n",
              "4996       NaN\n",
              "4998      6.67\n",
              "4999      8.20\n",
              "Name: gross_earn, Length: 4970, dtype: object"
            ],
            "text/html": [
              "<div>\n",
              "<style scoped>\n",
              "    .dataframe tbody tr th:only-of-type {\n",
              "        vertical-align: middle;\n",
              "    }\n",
              "\n",
              "    .dataframe tbody tr th {\n",
              "        vertical-align: top;\n",
              "    }\n",
              "\n",
              "    .dataframe thead th {\n",
              "        text-align: right;\n",
              "    }\n",
              "</style>\n",
              "<table border=\"1\" class=\"dataframe\">\n",
              "  <thead>\n",
              "    <tr style=\"text-align: right;\">\n",
              "      <th></th>\n",
              "      <th>gross_earn</th>\n",
              "    </tr>\n",
              "  </thead>\n",
              "  <tbody>\n",
              "    <tr>\n",
              "      <th>0</th>\n",
              "      <td>28.34</td>\n",
              "    </tr>\n",
              "    <tr>\n",
              "      <th>1</th>\n",
              "      <td>534.86</td>\n",
              "    </tr>\n",
              "    <tr>\n",
              "      <th>2</th>\n",
              "      <td>292.58</td>\n",
              "    </tr>\n",
              "    <tr>\n",
              "      <th>3</th>\n",
              "      <td>37.03</td>\n",
              "    </tr>\n",
              "    <tr>\n",
              "      <th>4</th>\n",
              "      <td>107.93</td>\n",
              "    </tr>\n",
              "    <tr>\n",
              "      <th>...</th>\n",
              "      <td>...</td>\n",
              "    </tr>\n",
              "    <tr>\n",
              "      <th>4994</th>\n",
              "      <td>NaN</td>\n",
              "    </tr>\n",
              "    <tr>\n",
              "      <th>4995</th>\n",
              "      <td>9.40</td>\n",
              "    </tr>\n",
              "    <tr>\n",
              "      <th>4996</th>\n",
              "      <td>NaN</td>\n",
              "    </tr>\n",
              "    <tr>\n",
              "      <th>4998</th>\n",
              "      <td>6.67</td>\n",
              "    </tr>\n",
              "    <tr>\n",
              "      <th>4999</th>\n",
              "      <td>8.20</td>\n",
              "    </tr>\n",
              "  </tbody>\n",
              "</table>\n",
              "<p>4970 rows × 1 columns</p>\n",
              "</div><br><label><b>dtype:</b> object</label>"
            ]
          },
          "metadata": {},
          "execution_count": 115
        }
      ]
    },
    {
      "cell_type": "markdown",
      "source": [
        "Создайте столбец gross_earn в исходном датасете, применив функцию к признаку gross_earn"
      ],
      "metadata": {
        "id": "de36T4hks3v_"
      }
    },
    {
      "cell_type": "code",
      "source": [
        "dataset['gross_earn_clear'] = dataset['gross_earn'].apply(clear_gross_earn)"
      ],
      "metadata": {
        "id": "F_ZKUk3xrotZ"
      },
      "execution_count": null,
      "outputs": []
    },
    {
      "cell_type": "markdown",
      "source": [
        "Выведите Series ['gross_earn_clear'] для оценки результата"
      ],
      "metadata": {
        "id": "jGMzKot8tBji"
      }
    },
    {
      "cell_type": "code",
      "source": [
        "print(dataset['gross_earn_clear'])"
      ],
      "metadata": {
        "id": "YC4Gmts7rotZ",
        "colab": {
          "base_uri": "https://localhost:8080/"
        },
        "outputId": "16c5e4e0-d0cf-4308-801e-a2396126f569"
      },
      "execution_count": null,
      "outputs": [
        {
          "output_type": "stream",
          "name": "stdout",
          "text": [
            "0        28.34\n",
            "1       534.86\n",
            "2       292.58\n",
            "3        37.03\n",
            "4       107.93\n",
            "         ...  \n",
            "4994       NaN\n",
            "4995      9.40\n",
            "4996       NaN\n",
            "4998      6.67\n",
            "4999      8.20\n",
            "Name: gross_earn_clear, Length: 4970, dtype: object\n"
          ]
        }
      ]
    },
    {
      "cell_type": "markdown",
      "source": [
        "Приведите признак gross_earn_clear в формат float с помощью метода astype()"
      ],
      "metadata": {
        "id": "J6URRJGwCQTg"
      }
    },
    {
      "cell_type": "code",
      "source": [
        "dataset['gross_earn_clear'] = dataset['gross_earn_clear'].astype(float)"
      ],
      "metadata": {
        "id": "QLKgWLlCCTKo"
      },
      "execution_count": null,
      "outputs": []
    },
    {
      "cell_type": "markdown",
      "source": [
        "Код был выполнен. Оцените результат, детально рассмотрев Series ['gross_earn_clear']"
      ],
      "metadata": {
        "id": "XEE1rc2Vuo78"
      }
    },
    {
      "cell_type": "code",
      "source": [
        "print(dataset['gross_earn_clear'])"
      ],
      "metadata": {
        "id": "0LpWHrxJzYl7",
        "colab": {
          "base_uri": "https://localhost:8080/"
        },
        "outputId": "c0895026-f1ef-49e1-fb08-101e9b6a5373"
      },
      "execution_count": null,
      "outputs": [
        {
          "output_type": "stream",
          "name": "stdout",
          "text": [
            "0        28.34\n",
            "1       534.86\n",
            "2       292.58\n",
            "3        37.03\n",
            "4       107.93\n",
            "         ...  \n",
            "4994       NaN\n",
            "4995      9.40\n",
            "4996       NaN\n",
            "4998      6.67\n",
            "4999      8.20\n",
            "Name: gross_earn_clear, Length: 4970, dtype: float64\n"
          ]
        }
      ]
    },
    {
      "cell_type": "markdown",
      "source": [
        "Выведите информацию о датасете с помощью метода info()"
      ],
      "metadata": {
        "id": "pU_iMRmhu19Z"
      }
    },
    {
      "cell_type": "code",
      "source": [
        "dataset.info()"
      ],
      "metadata": {
        "id": "mONxpon3rotd",
        "colab": {
          "base_uri": "https://localhost:8080/"
        },
        "outputId": "35891373-83ab-445c-bbca-186ee3f7f980"
      },
      "execution_count": null,
      "outputs": [
        {
          "output_type": "stream",
          "name": "stdout",
          "text": [
            "<class 'pandas.core.frame.DataFrame'>\n",
            "Index: 4970 entries, 0 to 4999\n",
            "Data columns (total 13 columns):\n",
            " #   Column            Non-Null Count  Dtype  \n",
            "---  ------            --------------  -----  \n",
            " 0   poster            4970 non-null   object \n",
            " 1   title             4970 non-null   object \n",
            " 2   certificate       4970 non-null   object \n",
            " 3   runtime           4970 non-null   object \n",
            " 4   genre             4970 non-null   object \n",
            " 5   rating            4970 non-null   float64\n",
            " 6   about             4956 non-null   object \n",
            " 7   director          4970 non-null   object \n",
            " 8   stars             4970 non-null   object \n",
            " 9   votes             4970 non-null   object \n",
            " 10  gross_earn        4574 non-null   object \n",
            " 11  runtime_clear     4970 non-null   int64  \n",
            " 12  gross_earn_clear  4574 non-null   float64\n",
            "dtypes: float64(2), int64(1), object(10)\n",
            "memory usage: 543.6+ KB\n"
          ]
        }
      ]
    },
    {
      "cell_type": "markdown",
      "source": [
        "Все получилось: признаки runtime и gross_earn в числовом формате!"
      ],
      "metadata": {
        "id": "edPJiFwmu6ta"
      }
    },
    {
      "cell_type": "markdown",
      "source": [
        "## 6. Сортировка по рейтингу"
      ],
      "metadata": {
        "id": "Bd-m3BJcz06-"
      }
    },
    {
      "cell_type": "markdown",
      "source": [
        "Отсортируйте датасет в порядке убывания рейтинга фильмов (rating), применив метод sort_values() с переданным в него параметром ascending=False"
      ],
      "metadata": {
        "id": "gclevZr3vDaj"
      }
    },
    {
      "cell_type": "code",
      "source": [
        "sorted_dataset = dataset.sort_values(['rating'], ascending=False)\n",
        "sorted_dataset.head()"
      ],
      "metadata": {
        "id": "UXanY_pIrDoo",
        "colab": {
          "base_uri": "https://localhost:8080/",
          "height": 660
        },
        "outputId": "33da2ffb-5427-47b3-9c8c-4c3e6c402684"
      },
      "execution_count": null,
      "outputs": [
        {
          "output_type": "execute_result",
          "data": {
            "text/plain": [
              "                                                 poster  \\\n",
              "0     https://m.media-amazon.com/images/S/sash/4Fyxw...   \n",
              "3788  https://m.media-amazon.com/images/S/sash/4Fyxw...   \n",
              "9     https://m.media-amazon.com/images/S/sash/4Fyxw...   \n",
              "32    https://m.media-amazon.com/images/S/sash/4Fyxw...   \n",
              "24    https://m.media-amazon.com/images/S/sash/4Fyxw...   \n",
              "\n",
              "                         title certificate  runtime  \\\n",
              "0     The Shawshank Redemption          15  142 min   \n",
              "3788            Hababam Sinifi         12A   87 min   \n",
              "9                The Godfather           X  175 min   \n",
              "32      The Godfather: Part II           X  202 min   \n",
              "24            Schindler's List          15  195 min   \n",
              "\n",
              "                          genre  rating  \\\n",
              "0                         Drama     9.3   \n",
              "3788              Comedy, Drama     9.2   \n",
              "9                  Crime, Drama     9.2   \n",
              "32                 Crime, Drama     9.0   \n",
              "24    Biography, Drama, History     9.0   \n",
              "\n",
              "                                                  about              director  \\\n",
              "0     Two imprisoned men bond over a number of years...        Frank Darabont   \n",
              "3788  Lazy, uneducated students share a very close b...         Ertem Egilmez   \n",
              "9     The aging patriarch of an organized crime dyna...  Francis Ford Coppola   \n",
              "32    The early life and career of Vito Corleone in ...  Francis Ford Coppola   \n",
              "24    In German-occupied Poland during World War II,...      Steven Spielberg   \n",
              "\n",
              "                                                  stars      votes gross_earn  \\\n",
              "0     ('Tim Robbins',), ('Morgan Freeman',), ('Bob G...  26,26,905    $28.34M   \n",
              "3788  ('Kemal Sunal',), ('Münir Özkul',), ('Halit Ak...     40,492        NaN   \n",
              "9     ('Marlon Brando',), ('Al Pacino',), ('James Ca...  18,19,641   $134.97M   \n",
              "32    ('Al Pacino',), ('Robert De Niro',), ('Robert ...  12,49,182    $57.30M   \n",
              "24    ('Liam Neeson',), ('Ralph Fiennes',), ('Ben Ki...  13,33,407    $96.90M   \n",
              "\n",
              "      runtime_clear  gross_earn_clear  \n",
              "0               142             28.34  \n",
              "3788             87               NaN  \n",
              "9               175            134.97  \n",
              "32              202             57.30  \n",
              "24              195             96.90  "
            ],
            "text/html": [
              "\n",
              "  <div id=\"df-e17f70d6-dc4e-41bd-b37f-be55180f1022\" class=\"colab-df-container\">\n",
              "    <div>\n",
              "<style scoped>\n",
              "    .dataframe tbody tr th:only-of-type {\n",
              "        vertical-align: middle;\n",
              "    }\n",
              "\n",
              "    .dataframe tbody tr th {\n",
              "        vertical-align: top;\n",
              "    }\n",
              "\n",
              "    .dataframe thead th {\n",
              "        text-align: right;\n",
              "    }\n",
              "</style>\n",
              "<table border=\"1\" class=\"dataframe\">\n",
              "  <thead>\n",
              "    <tr style=\"text-align: right;\">\n",
              "      <th></th>\n",
              "      <th>poster</th>\n",
              "      <th>title</th>\n",
              "      <th>certificate</th>\n",
              "      <th>runtime</th>\n",
              "      <th>genre</th>\n",
              "      <th>rating</th>\n",
              "      <th>about</th>\n",
              "      <th>director</th>\n",
              "      <th>stars</th>\n",
              "      <th>votes</th>\n",
              "      <th>gross_earn</th>\n",
              "      <th>runtime_clear</th>\n",
              "      <th>gross_earn_clear</th>\n",
              "    </tr>\n",
              "  </thead>\n",
              "  <tbody>\n",
              "    <tr>\n",
              "      <th>0</th>\n",
              "      <td>https://m.media-amazon.com/images/S/sash/4Fyxw...</td>\n",
              "      <td>The Shawshank Redemption</td>\n",
              "      <td>15</td>\n",
              "      <td>142 min</td>\n",
              "      <td>Drama</td>\n",
              "      <td>9.3</td>\n",
              "      <td>Two imprisoned men bond over a number of years...</td>\n",
              "      <td>Frank Darabont</td>\n",
              "      <td>('Tim Robbins',), ('Morgan Freeman',), ('Bob G...</td>\n",
              "      <td>26,26,905</td>\n",
              "      <td>$28.34M</td>\n",
              "      <td>142</td>\n",
              "      <td>28.34</td>\n",
              "    </tr>\n",
              "    <tr>\n",
              "      <th>3788</th>\n",
              "      <td>https://m.media-amazon.com/images/S/sash/4Fyxw...</td>\n",
              "      <td>Hababam Sinifi</td>\n",
              "      <td>12A</td>\n",
              "      <td>87 min</td>\n",
              "      <td>Comedy, Drama</td>\n",
              "      <td>9.2</td>\n",
              "      <td>Lazy, uneducated students share a very close b...</td>\n",
              "      <td>Ertem Egilmez</td>\n",
              "      <td>('Kemal Sunal',), ('Münir Özkul',), ('Halit Ak...</td>\n",
              "      <td>40,492</td>\n",
              "      <td>NaN</td>\n",
              "      <td>87</td>\n",
              "      <td>NaN</td>\n",
              "    </tr>\n",
              "    <tr>\n",
              "      <th>9</th>\n",
              "      <td>https://m.media-amazon.com/images/S/sash/4Fyxw...</td>\n",
              "      <td>The Godfather</td>\n",
              "      <td>X</td>\n",
              "      <td>175 min</td>\n",
              "      <td>Crime, Drama</td>\n",
              "      <td>9.2</td>\n",
              "      <td>The aging patriarch of an organized crime dyna...</td>\n",
              "      <td>Francis Ford Coppola</td>\n",
              "      <td>('Marlon Brando',), ('Al Pacino',), ('James Ca...</td>\n",
              "      <td>18,19,641</td>\n",
              "      <td>$134.97M</td>\n",
              "      <td>175</td>\n",
              "      <td>134.97</td>\n",
              "    </tr>\n",
              "    <tr>\n",
              "      <th>32</th>\n",
              "      <td>https://m.media-amazon.com/images/S/sash/4Fyxw...</td>\n",
              "      <td>The Godfather: Part II</td>\n",
              "      <td>X</td>\n",
              "      <td>202 min</td>\n",
              "      <td>Crime, Drama</td>\n",
              "      <td>9.0</td>\n",
              "      <td>The early life and career of Vito Corleone in ...</td>\n",
              "      <td>Francis Ford Coppola</td>\n",
              "      <td>('Al Pacino',), ('Robert De Niro',), ('Robert ...</td>\n",
              "      <td>12,49,182</td>\n",
              "      <td>$57.30M</td>\n",
              "      <td>202</td>\n",
              "      <td>57.30</td>\n",
              "    </tr>\n",
              "    <tr>\n",
              "      <th>24</th>\n",
              "      <td>https://m.media-amazon.com/images/S/sash/4Fyxw...</td>\n",
              "      <td>Schindler's List</td>\n",
              "      <td>15</td>\n",
              "      <td>195 min</td>\n",
              "      <td>Biography, Drama, History</td>\n",
              "      <td>9.0</td>\n",
              "      <td>In German-occupied Poland during World War II,...</td>\n",
              "      <td>Steven Spielberg</td>\n",
              "      <td>('Liam Neeson',), ('Ralph Fiennes',), ('Ben Ki...</td>\n",
              "      <td>13,33,407</td>\n",
              "      <td>$96.90M</td>\n",
              "      <td>195</td>\n",
              "      <td>96.90</td>\n",
              "    </tr>\n",
              "  </tbody>\n",
              "</table>\n",
              "</div>\n",
              "    <div class=\"colab-df-buttons\">\n",
              "\n",
              "  <div class=\"colab-df-container\">\n",
              "    <button class=\"colab-df-convert\" onclick=\"convertToInteractive('df-e17f70d6-dc4e-41bd-b37f-be55180f1022')\"\n",
              "            title=\"Convert this dataframe to an interactive table.\"\n",
              "            style=\"display:none;\">\n",
              "\n",
              "  <svg xmlns=\"http://www.w3.org/2000/svg\" height=\"24px\" viewBox=\"0 -960 960 960\">\n",
              "    <path d=\"M120-120v-720h720v720H120Zm60-500h600v-160H180v160Zm220 220h160v-160H400v160Zm0 220h160v-160H400v160ZM180-400h160v-160H180v160Zm440 0h160v-160H620v160ZM180-180h160v-160H180v160Zm440 0h160v-160H620v160Z\"/>\n",
              "  </svg>\n",
              "    </button>\n",
              "\n",
              "  <style>\n",
              "    .colab-df-container {\n",
              "      display:flex;\n",
              "      gap: 12px;\n",
              "    }\n",
              "\n",
              "    .colab-df-convert {\n",
              "      background-color: #E8F0FE;\n",
              "      border: none;\n",
              "      border-radius: 50%;\n",
              "      cursor: pointer;\n",
              "      display: none;\n",
              "      fill: #1967D2;\n",
              "      height: 32px;\n",
              "      padding: 0 0 0 0;\n",
              "      width: 32px;\n",
              "    }\n",
              "\n",
              "    .colab-df-convert:hover {\n",
              "      background-color: #E2EBFA;\n",
              "      box-shadow: 0px 1px 2px rgba(60, 64, 67, 0.3), 0px 1px 3px 1px rgba(60, 64, 67, 0.15);\n",
              "      fill: #174EA6;\n",
              "    }\n",
              "\n",
              "    .colab-df-buttons div {\n",
              "      margin-bottom: 4px;\n",
              "    }\n",
              "\n",
              "    [theme=dark] .colab-df-convert {\n",
              "      background-color: #3B4455;\n",
              "      fill: #D2E3FC;\n",
              "    }\n",
              "\n",
              "    [theme=dark] .colab-df-convert:hover {\n",
              "      background-color: #434B5C;\n",
              "      box-shadow: 0px 1px 3px 1px rgba(0, 0, 0, 0.15);\n",
              "      filter: drop-shadow(0px 1px 2px rgba(0, 0, 0, 0.3));\n",
              "      fill: #FFFFFF;\n",
              "    }\n",
              "  </style>\n",
              "\n",
              "    <script>\n",
              "      const buttonEl =\n",
              "        document.querySelector('#df-e17f70d6-dc4e-41bd-b37f-be55180f1022 button.colab-df-convert');\n",
              "      buttonEl.style.display =\n",
              "        google.colab.kernel.accessAllowed ? 'block' : 'none';\n",
              "\n",
              "      async function convertToInteractive(key) {\n",
              "        const element = document.querySelector('#df-e17f70d6-dc4e-41bd-b37f-be55180f1022');\n",
              "        const dataTable =\n",
              "          await google.colab.kernel.invokeFunction('convertToInteractive',\n",
              "                                                    [key], {});\n",
              "        if (!dataTable) return;\n",
              "\n",
              "        const docLinkHtml = 'Like what you see? Visit the ' +\n",
              "          '<a target=\"_blank\" href=https://colab.research.google.com/notebooks/data_table.ipynb>data table notebook</a>'\n",
              "          + ' to learn more about interactive tables.';\n",
              "        element.innerHTML = '';\n",
              "        dataTable['output_type'] = 'display_data';\n",
              "        await google.colab.output.renderOutput(dataTable, element);\n",
              "        const docLink = document.createElement('div');\n",
              "        docLink.innerHTML = docLinkHtml;\n",
              "        element.appendChild(docLink);\n",
              "      }\n",
              "    </script>\n",
              "  </div>\n",
              "\n",
              "\n",
              "<div id=\"df-11847c6a-7d93-469d-9ccc-96e8e54b4854\">\n",
              "  <button class=\"colab-df-quickchart\" onclick=\"quickchart('df-11847c6a-7d93-469d-9ccc-96e8e54b4854')\"\n",
              "            title=\"Suggest charts\"\n",
              "            style=\"display:none;\">\n",
              "\n",
              "<svg xmlns=\"http://www.w3.org/2000/svg\" height=\"24px\"viewBox=\"0 0 24 24\"\n",
              "     width=\"24px\">\n",
              "    <g>\n",
              "        <path d=\"M19 3H5c-1.1 0-2 .9-2 2v14c0 1.1.9 2 2 2h14c1.1 0 2-.9 2-2V5c0-1.1-.9-2-2-2zM9 17H7v-7h2v7zm4 0h-2V7h2v10zm4 0h-2v-4h2v4z\"/>\n",
              "    </g>\n",
              "</svg>\n",
              "  </button>\n",
              "\n",
              "<style>\n",
              "  .colab-df-quickchart {\n",
              "      --bg-color: #E8F0FE;\n",
              "      --fill-color: #1967D2;\n",
              "      --hover-bg-color: #E2EBFA;\n",
              "      --hover-fill-color: #174EA6;\n",
              "      --disabled-fill-color: #AAA;\n",
              "      --disabled-bg-color: #DDD;\n",
              "  }\n",
              "\n",
              "  [theme=dark] .colab-df-quickchart {\n",
              "      --bg-color: #3B4455;\n",
              "      --fill-color: #D2E3FC;\n",
              "      --hover-bg-color: #434B5C;\n",
              "      --hover-fill-color: #FFFFFF;\n",
              "      --disabled-bg-color: #3B4455;\n",
              "      --disabled-fill-color: #666;\n",
              "  }\n",
              "\n",
              "  .colab-df-quickchart {\n",
              "    background-color: var(--bg-color);\n",
              "    border: none;\n",
              "    border-radius: 50%;\n",
              "    cursor: pointer;\n",
              "    display: none;\n",
              "    fill: var(--fill-color);\n",
              "    height: 32px;\n",
              "    padding: 0;\n",
              "    width: 32px;\n",
              "  }\n",
              "\n",
              "  .colab-df-quickchart:hover {\n",
              "    background-color: var(--hover-bg-color);\n",
              "    box-shadow: 0 1px 2px rgba(60, 64, 67, 0.3), 0 1px 3px 1px rgba(60, 64, 67, 0.15);\n",
              "    fill: var(--button-hover-fill-color);\n",
              "  }\n",
              "\n",
              "  .colab-df-quickchart-complete:disabled,\n",
              "  .colab-df-quickchart-complete:disabled:hover {\n",
              "    background-color: var(--disabled-bg-color);\n",
              "    fill: var(--disabled-fill-color);\n",
              "    box-shadow: none;\n",
              "  }\n",
              "\n",
              "  .colab-df-spinner {\n",
              "    border: 2px solid var(--fill-color);\n",
              "    border-color: transparent;\n",
              "    border-bottom-color: var(--fill-color);\n",
              "    animation:\n",
              "      spin 1s steps(1) infinite;\n",
              "  }\n",
              "\n",
              "  @keyframes spin {\n",
              "    0% {\n",
              "      border-color: transparent;\n",
              "      border-bottom-color: var(--fill-color);\n",
              "      border-left-color: var(--fill-color);\n",
              "    }\n",
              "    20% {\n",
              "      border-color: transparent;\n",
              "      border-left-color: var(--fill-color);\n",
              "      border-top-color: var(--fill-color);\n",
              "    }\n",
              "    30% {\n",
              "      border-color: transparent;\n",
              "      border-left-color: var(--fill-color);\n",
              "      border-top-color: var(--fill-color);\n",
              "      border-right-color: var(--fill-color);\n",
              "    }\n",
              "    40% {\n",
              "      border-color: transparent;\n",
              "      border-right-color: var(--fill-color);\n",
              "      border-top-color: var(--fill-color);\n",
              "    }\n",
              "    60% {\n",
              "      border-color: transparent;\n",
              "      border-right-color: var(--fill-color);\n",
              "    }\n",
              "    80% {\n",
              "      border-color: transparent;\n",
              "      border-right-color: var(--fill-color);\n",
              "      border-bottom-color: var(--fill-color);\n",
              "    }\n",
              "    90% {\n",
              "      border-color: transparent;\n",
              "      border-bottom-color: var(--fill-color);\n",
              "    }\n",
              "  }\n",
              "</style>\n",
              "\n",
              "  <script>\n",
              "    async function quickchart(key) {\n",
              "      const quickchartButtonEl =\n",
              "        document.querySelector('#' + key + ' button');\n",
              "      quickchartButtonEl.disabled = true;  // To prevent multiple clicks.\n",
              "      quickchartButtonEl.classList.add('colab-df-spinner');\n",
              "      try {\n",
              "        const charts = await google.colab.kernel.invokeFunction(\n",
              "            'suggestCharts', [key], {});\n",
              "      } catch (error) {\n",
              "        console.error('Error during call to suggestCharts:', error);\n",
              "      }\n",
              "      quickchartButtonEl.classList.remove('colab-df-spinner');\n",
              "      quickchartButtonEl.classList.add('colab-df-quickchart-complete');\n",
              "    }\n",
              "    (() => {\n",
              "      let quickchartButtonEl =\n",
              "        document.querySelector('#df-11847c6a-7d93-469d-9ccc-96e8e54b4854 button');\n",
              "      quickchartButtonEl.style.display =\n",
              "        google.colab.kernel.accessAllowed ? 'block' : 'none';\n",
              "    })();\n",
              "  </script>\n",
              "</div>\n",
              "    </div>\n",
              "  </div>\n"
            ],
            "application/vnd.google.colaboratory.intrinsic+json": {
              "type": "dataframe",
              "variable_name": "sorted_dataset",
              "summary": "{\n  \"name\": \"sorted_dataset\",\n  \"rows\": 4970,\n  \"fields\": [\n    {\n      \"column\": \"poster\",\n      \"properties\": {\n        \"dtype\": \"category\",\n        \"num_unique_values\": 1,\n        \"samples\": [\n          \"https://m.media-amazon.com/images/S/sash/4FyxwxECzL-U1J8.png\"\n        ],\n        \"semantic_type\": \"\",\n        \"description\": \"\"\n      }\n    },\n    {\n      \"column\": \"title\",\n      \"properties\": {\n        \"dtype\": \"string\",\n        \"num_unique_values\": 4863,\n        \"samples\": [\n          \"The Mask\"\n        ],\n        \"semantic_type\": \"\",\n        \"description\": \"\"\n      }\n    },\n    {\n      \"column\": \"certificate\",\n      \"properties\": {\n        \"dtype\": \"category\",\n        \"num_unique_values\": 15,\n        \"samples\": [\n          \"R\"\n        ],\n        \"semantic_type\": \"\",\n        \"description\": \"\"\n      }\n    },\n    {\n      \"column\": \"runtime\",\n      \"properties\": {\n        \"dtype\": \"category\",\n        \"num_unique_values\": 151,\n        \"samples\": [\n          \"158 min\"\n        ],\n        \"semantic_type\": \"\",\n        \"description\": \"\"\n      }\n    },\n    {\n      \"column\": \"genre\",\n      \"properties\": {\n        \"dtype\": \"category\",\n        \"num_unique_values\": 346,\n        \"samples\": [\n          \"Adventure, Comedy, Crime\"\n        ],\n        \"semantic_type\": \"\",\n        \"description\": \"\"\n      }\n    },\n    {\n      \"column\": \"rating\",\n      \"properties\": {\n        \"dtype\": \"number\",\n        \"std\": 0.967944807473982,\n        \"min\": 1.5,\n        \"max\": 9.3,\n        \"num_unique_values\": 72,\n        \"samples\": [\n          8.8\n        ],\n        \"semantic_type\": \"\",\n        \"description\": \"\"\n      }\n    },\n    {\n      \"column\": \"about\",\n      \"properties\": {\n        \"dtype\": \"string\",\n        \"num_unique_values\": 4946,\n        \"samples\": [\n          \"A retired legal counselor writes a novel hoping to find closure for one of his past unresolved homicide cases and for his unreciprocated love with his superior - both of which still haunt him decades later.\"\n        ],\n        \"semantic_type\": \"\",\n        \"description\": \"\"\n      }\n    },\n    {\n      \"column\": \"director\",\n      \"properties\": {\n        \"dtype\": \"category\",\n        \"num_unique_values\": 1954,\n        \"samples\": [\n          \"Robert Towne\"\n        ],\n        \"semantic_type\": \"\",\n        \"description\": \"\"\n      }\n    },\n    {\n      \"column\": \"stars\",\n      \"properties\": {\n        \"dtype\": \"string\",\n        \"num_unique_values\": 4940,\n        \"samples\": [\n          \"('Denzel Washington',), ('Robert Duvall',), ('Gabriela Oltean',), ('Kimberly Elise',)\"\n        ],\n        \"semantic_type\": \"\",\n        \"description\": \"\"\n      }\n    },\n    {\n      \"column\": \"votes\",\n      \"properties\": {\n        \"dtype\": \"string\",\n        \"num_unique_values\": 4889,\n        \"samples\": [\n          \"60,898\"\n        ],\n        \"semantic_type\": \"\",\n        \"description\": \"\"\n      }\n    },\n    {\n      \"column\": \"gross_earn\",\n      \"properties\": {\n        \"dtype\": \"string\",\n        \"num_unique_values\": 3366,\n        \"samples\": [\n          \"$33.20M\"\n        ],\n        \"semantic_type\": \"\",\n        \"description\": \"\"\n      }\n    },\n    {\n      \"column\": \"runtime_clear\",\n      \"properties\": {\n        \"dtype\": \"number\",\n        \"std\": 21,\n        \"min\": 45,\n        \"max\": 366,\n        \"num_unique_values\": 151,\n        \"samples\": [\n          158\n        ],\n        \"semantic_type\": \"\",\n        \"description\": \"\"\n      }\n    },\n    {\n      \"column\": \"gross_earn_clear\",\n      \"properties\": {\n        \"dtype\": \"number\",\n        \"std\": 67.11669736593878,\n        \"min\": 0.0,\n        \"max\": 936.66,\n        \"num_unique_values\": 3366,\n        \"samples\": [\n          33.2\n        ],\n        \"semantic_type\": \"\",\n        \"description\": \"\"\n      }\n    }\n  ]\n}"
            }
          },
          "metadata": {},
          "execution_count": 121
        }
      ]
    },
    {
      "cell_type": "markdown",
      "source": [
        "## 7. Переопределение индексов"
      ],
      "metadata": {
        "id": "vAJp76vN0gTL"
      }
    },
    {
      "cell_type": "markdown",
      "source": [
        "Переопределите индексы по порядку с помощью метода reset_index() с переданными в него параметрами drop=True для удаления предыдущего столбца индексов и inplace=True для автоматической перезаписи таблицы"
      ],
      "metadata": {
        "id": "jTBRnhPhvcoT"
      }
    },
    {
      "cell_type": "code",
      "source": [
        "sorted_dataset.reset_index(drop=True, inplace=True)\n",
        "sorted_dataset.head()"
      ],
      "metadata": {
        "id": "YK8ZVEoB0L9o",
        "colab": {
          "base_uri": "https://localhost:8080/",
          "height": 660
        },
        "outputId": "288ce8c7-05cf-479a-ebf8-da2cc7bfc42c"
      },
      "execution_count": null,
      "outputs": [
        {
          "output_type": "execute_result",
          "data": {
            "text/plain": [
              "                                              poster  \\\n",
              "0  https://m.media-amazon.com/images/S/sash/4Fyxw...   \n",
              "1  https://m.media-amazon.com/images/S/sash/4Fyxw...   \n",
              "2  https://m.media-amazon.com/images/S/sash/4Fyxw...   \n",
              "3  https://m.media-amazon.com/images/S/sash/4Fyxw...   \n",
              "4  https://m.media-amazon.com/images/S/sash/4Fyxw...   \n",
              "\n",
              "                      title certificate  runtime                      genre  \\\n",
              "0  The Shawshank Redemption          15  142 min                      Drama   \n",
              "1            Hababam Sinifi         12A   87 min              Comedy, Drama   \n",
              "2             The Godfather           X  175 min               Crime, Drama   \n",
              "3    The Godfather: Part II           X  202 min               Crime, Drama   \n",
              "4          Schindler's List          15  195 min  Biography, Drama, History   \n",
              "\n",
              "   rating                                              about  \\\n",
              "0     9.3  Two imprisoned men bond over a number of years...   \n",
              "1     9.2  Lazy, uneducated students share a very close b...   \n",
              "2     9.2  The aging patriarch of an organized crime dyna...   \n",
              "3     9.0  The early life and career of Vito Corleone in ...   \n",
              "4     9.0  In German-occupied Poland during World War II,...   \n",
              "\n",
              "               director                                              stars  \\\n",
              "0        Frank Darabont  ('Tim Robbins',), ('Morgan Freeman',), ('Bob G...   \n",
              "1         Ertem Egilmez  ('Kemal Sunal',), ('Münir Özkul',), ('Halit Ak...   \n",
              "2  Francis Ford Coppola  ('Marlon Brando',), ('Al Pacino',), ('James Ca...   \n",
              "3  Francis Ford Coppola  ('Al Pacino',), ('Robert De Niro',), ('Robert ...   \n",
              "4      Steven Spielberg  ('Liam Neeson',), ('Ralph Fiennes',), ('Ben Ki...   \n",
              "\n",
              "       votes gross_earn  runtime_clear  gross_earn_clear  \n",
              "0  26,26,905    $28.34M            142             28.34  \n",
              "1     40,492        NaN             87               NaN  \n",
              "2  18,19,641   $134.97M            175            134.97  \n",
              "3  12,49,182    $57.30M            202             57.30  \n",
              "4  13,33,407    $96.90M            195             96.90  "
            ],
            "text/html": [
              "\n",
              "  <div id=\"df-cbf1aa36-11de-49ad-a81b-f14f36b6272b\" class=\"colab-df-container\">\n",
              "    <div>\n",
              "<style scoped>\n",
              "    .dataframe tbody tr th:only-of-type {\n",
              "        vertical-align: middle;\n",
              "    }\n",
              "\n",
              "    .dataframe tbody tr th {\n",
              "        vertical-align: top;\n",
              "    }\n",
              "\n",
              "    .dataframe thead th {\n",
              "        text-align: right;\n",
              "    }\n",
              "</style>\n",
              "<table border=\"1\" class=\"dataframe\">\n",
              "  <thead>\n",
              "    <tr style=\"text-align: right;\">\n",
              "      <th></th>\n",
              "      <th>poster</th>\n",
              "      <th>title</th>\n",
              "      <th>certificate</th>\n",
              "      <th>runtime</th>\n",
              "      <th>genre</th>\n",
              "      <th>rating</th>\n",
              "      <th>about</th>\n",
              "      <th>director</th>\n",
              "      <th>stars</th>\n",
              "      <th>votes</th>\n",
              "      <th>gross_earn</th>\n",
              "      <th>runtime_clear</th>\n",
              "      <th>gross_earn_clear</th>\n",
              "    </tr>\n",
              "  </thead>\n",
              "  <tbody>\n",
              "    <tr>\n",
              "      <th>0</th>\n",
              "      <td>https://m.media-amazon.com/images/S/sash/4Fyxw...</td>\n",
              "      <td>The Shawshank Redemption</td>\n",
              "      <td>15</td>\n",
              "      <td>142 min</td>\n",
              "      <td>Drama</td>\n",
              "      <td>9.3</td>\n",
              "      <td>Two imprisoned men bond over a number of years...</td>\n",
              "      <td>Frank Darabont</td>\n",
              "      <td>('Tim Robbins',), ('Morgan Freeman',), ('Bob G...</td>\n",
              "      <td>26,26,905</td>\n",
              "      <td>$28.34M</td>\n",
              "      <td>142</td>\n",
              "      <td>28.34</td>\n",
              "    </tr>\n",
              "    <tr>\n",
              "      <th>1</th>\n",
              "      <td>https://m.media-amazon.com/images/S/sash/4Fyxw...</td>\n",
              "      <td>Hababam Sinifi</td>\n",
              "      <td>12A</td>\n",
              "      <td>87 min</td>\n",
              "      <td>Comedy, Drama</td>\n",
              "      <td>9.2</td>\n",
              "      <td>Lazy, uneducated students share a very close b...</td>\n",
              "      <td>Ertem Egilmez</td>\n",
              "      <td>('Kemal Sunal',), ('Münir Özkul',), ('Halit Ak...</td>\n",
              "      <td>40,492</td>\n",
              "      <td>NaN</td>\n",
              "      <td>87</td>\n",
              "      <td>NaN</td>\n",
              "    </tr>\n",
              "    <tr>\n",
              "      <th>2</th>\n",
              "      <td>https://m.media-amazon.com/images/S/sash/4Fyxw...</td>\n",
              "      <td>The Godfather</td>\n",
              "      <td>X</td>\n",
              "      <td>175 min</td>\n",
              "      <td>Crime, Drama</td>\n",
              "      <td>9.2</td>\n",
              "      <td>The aging patriarch of an organized crime dyna...</td>\n",
              "      <td>Francis Ford Coppola</td>\n",
              "      <td>('Marlon Brando',), ('Al Pacino',), ('James Ca...</td>\n",
              "      <td>18,19,641</td>\n",
              "      <td>$134.97M</td>\n",
              "      <td>175</td>\n",
              "      <td>134.97</td>\n",
              "    </tr>\n",
              "    <tr>\n",
              "      <th>3</th>\n",
              "      <td>https://m.media-amazon.com/images/S/sash/4Fyxw...</td>\n",
              "      <td>The Godfather: Part II</td>\n",
              "      <td>X</td>\n",
              "      <td>202 min</td>\n",
              "      <td>Crime, Drama</td>\n",
              "      <td>9.0</td>\n",
              "      <td>The early life and career of Vito Corleone in ...</td>\n",
              "      <td>Francis Ford Coppola</td>\n",
              "      <td>('Al Pacino',), ('Robert De Niro',), ('Robert ...</td>\n",
              "      <td>12,49,182</td>\n",
              "      <td>$57.30M</td>\n",
              "      <td>202</td>\n",
              "      <td>57.30</td>\n",
              "    </tr>\n",
              "    <tr>\n",
              "      <th>4</th>\n",
              "      <td>https://m.media-amazon.com/images/S/sash/4Fyxw...</td>\n",
              "      <td>Schindler's List</td>\n",
              "      <td>15</td>\n",
              "      <td>195 min</td>\n",
              "      <td>Biography, Drama, History</td>\n",
              "      <td>9.0</td>\n",
              "      <td>In German-occupied Poland during World War II,...</td>\n",
              "      <td>Steven Spielberg</td>\n",
              "      <td>('Liam Neeson',), ('Ralph Fiennes',), ('Ben Ki...</td>\n",
              "      <td>13,33,407</td>\n",
              "      <td>$96.90M</td>\n",
              "      <td>195</td>\n",
              "      <td>96.90</td>\n",
              "    </tr>\n",
              "  </tbody>\n",
              "</table>\n",
              "</div>\n",
              "    <div class=\"colab-df-buttons\">\n",
              "\n",
              "  <div class=\"colab-df-container\">\n",
              "    <button class=\"colab-df-convert\" onclick=\"convertToInteractive('df-cbf1aa36-11de-49ad-a81b-f14f36b6272b')\"\n",
              "            title=\"Convert this dataframe to an interactive table.\"\n",
              "            style=\"display:none;\">\n",
              "\n",
              "  <svg xmlns=\"http://www.w3.org/2000/svg\" height=\"24px\" viewBox=\"0 -960 960 960\">\n",
              "    <path d=\"M120-120v-720h720v720H120Zm60-500h600v-160H180v160Zm220 220h160v-160H400v160Zm0 220h160v-160H400v160ZM180-400h160v-160H180v160Zm440 0h160v-160H620v160ZM180-180h160v-160H180v160Zm440 0h160v-160H620v160Z\"/>\n",
              "  </svg>\n",
              "    </button>\n",
              "\n",
              "  <style>\n",
              "    .colab-df-container {\n",
              "      display:flex;\n",
              "      gap: 12px;\n",
              "    }\n",
              "\n",
              "    .colab-df-convert {\n",
              "      background-color: #E8F0FE;\n",
              "      border: none;\n",
              "      border-radius: 50%;\n",
              "      cursor: pointer;\n",
              "      display: none;\n",
              "      fill: #1967D2;\n",
              "      height: 32px;\n",
              "      padding: 0 0 0 0;\n",
              "      width: 32px;\n",
              "    }\n",
              "\n",
              "    .colab-df-convert:hover {\n",
              "      background-color: #E2EBFA;\n",
              "      box-shadow: 0px 1px 2px rgba(60, 64, 67, 0.3), 0px 1px 3px 1px rgba(60, 64, 67, 0.15);\n",
              "      fill: #174EA6;\n",
              "    }\n",
              "\n",
              "    .colab-df-buttons div {\n",
              "      margin-bottom: 4px;\n",
              "    }\n",
              "\n",
              "    [theme=dark] .colab-df-convert {\n",
              "      background-color: #3B4455;\n",
              "      fill: #D2E3FC;\n",
              "    }\n",
              "\n",
              "    [theme=dark] .colab-df-convert:hover {\n",
              "      background-color: #434B5C;\n",
              "      box-shadow: 0px 1px 3px 1px rgba(0, 0, 0, 0.15);\n",
              "      filter: drop-shadow(0px 1px 2px rgba(0, 0, 0, 0.3));\n",
              "      fill: #FFFFFF;\n",
              "    }\n",
              "  </style>\n",
              "\n",
              "    <script>\n",
              "      const buttonEl =\n",
              "        document.querySelector('#df-cbf1aa36-11de-49ad-a81b-f14f36b6272b button.colab-df-convert');\n",
              "      buttonEl.style.display =\n",
              "        google.colab.kernel.accessAllowed ? 'block' : 'none';\n",
              "\n",
              "      async function convertToInteractive(key) {\n",
              "        const element = document.querySelector('#df-cbf1aa36-11de-49ad-a81b-f14f36b6272b');\n",
              "        const dataTable =\n",
              "          await google.colab.kernel.invokeFunction('convertToInteractive',\n",
              "                                                    [key], {});\n",
              "        if (!dataTable) return;\n",
              "\n",
              "        const docLinkHtml = 'Like what you see? Visit the ' +\n",
              "          '<a target=\"_blank\" href=https://colab.research.google.com/notebooks/data_table.ipynb>data table notebook</a>'\n",
              "          + ' to learn more about interactive tables.';\n",
              "        element.innerHTML = '';\n",
              "        dataTable['output_type'] = 'display_data';\n",
              "        await google.colab.output.renderOutput(dataTable, element);\n",
              "        const docLink = document.createElement('div');\n",
              "        docLink.innerHTML = docLinkHtml;\n",
              "        element.appendChild(docLink);\n",
              "      }\n",
              "    </script>\n",
              "  </div>\n",
              "\n",
              "\n",
              "<div id=\"df-6aaea43d-ec23-4f5d-a713-e70a6d23b527\">\n",
              "  <button class=\"colab-df-quickchart\" onclick=\"quickchart('df-6aaea43d-ec23-4f5d-a713-e70a6d23b527')\"\n",
              "            title=\"Suggest charts\"\n",
              "            style=\"display:none;\">\n",
              "\n",
              "<svg xmlns=\"http://www.w3.org/2000/svg\" height=\"24px\"viewBox=\"0 0 24 24\"\n",
              "     width=\"24px\">\n",
              "    <g>\n",
              "        <path d=\"M19 3H5c-1.1 0-2 .9-2 2v14c0 1.1.9 2 2 2h14c1.1 0 2-.9 2-2V5c0-1.1-.9-2-2-2zM9 17H7v-7h2v7zm4 0h-2V7h2v10zm4 0h-2v-4h2v4z\"/>\n",
              "    </g>\n",
              "</svg>\n",
              "  </button>\n",
              "\n",
              "<style>\n",
              "  .colab-df-quickchart {\n",
              "      --bg-color: #E8F0FE;\n",
              "      --fill-color: #1967D2;\n",
              "      --hover-bg-color: #E2EBFA;\n",
              "      --hover-fill-color: #174EA6;\n",
              "      --disabled-fill-color: #AAA;\n",
              "      --disabled-bg-color: #DDD;\n",
              "  }\n",
              "\n",
              "  [theme=dark] .colab-df-quickchart {\n",
              "      --bg-color: #3B4455;\n",
              "      --fill-color: #D2E3FC;\n",
              "      --hover-bg-color: #434B5C;\n",
              "      --hover-fill-color: #FFFFFF;\n",
              "      --disabled-bg-color: #3B4455;\n",
              "      --disabled-fill-color: #666;\n",
              "  }\n",
              "\n",
              "  .colab-df-quickchart {\n",
              "    background-color: var(--bg-color);\n",
              "    border: none;\n",
              "    border-radius: 50%;\n",
              "    cursor: pointer;\n",
              "    display: none;\n",
              "    fill: var(--fill-color);\n",
              "    height: 32px;\n",
              "    padding: 0;\n",
              "    width: 32px;\n",
              "  }\n",
              "\n",
              "  .colab-df-quickchart:hover {\n",
              "    background-color: var(--hover-bg-color);\n",
              "    box-shadow: 0 1px 2px rgba(60, 64, 67, 0.3), 0 1px 3px 1px rgba(60, 64, 67, 0.15);\n",
              "    fill: var(--button-hover-fill-color);\n",
              "  }\n",
              "\n",
              "  .colab-df-quickchart-complete:disabled,\n",
              "  .colab-df-quickchart-complete:disabled:hover {\n",
              "    background-color: var(--disabled-bg-color);\n",
              "    fill: var(--disabled-fill-color);\n",
              "    box-shadow: none;\n",
              "  }\n",
              "\n",
              "  .colab-df-spinner {\n",
              "    border: 2px solid var(--fill-color);\n",
              "    border-color: transparent;\n",
              "    border-bottom-color: var(--fill-color);\n",
              "    animation:\n",
              "      spin 1s steps(1) infinite;\n",
              "  }\n",
              "\n",
              "  @keyframes spin {\n",
              "    0% {\n",
              "      border-color: transparent;\n",
              "      border-bottom-color: var(--fill-color);\n",
              "      border-left-color: var(--fill-color);\n",
              "    }\n",
              "    20% {\n",
              "      border-color: transparent;\n",
              "      border-left-color: var(--fill-color);\n",
              "      border-top-color: var(--fill-color);\n",
              "    }\n",
              "    30% {\n",
              "      border-color: transparent;\n",
              "      border-left-color: var(--fill-color);\n",
              "      border-top-color: var(--fill-color);\n",
              "      border-right-color: var(--fill-color);\n",
              "    }\n",
              "    40% {\n",
              "      border-color: transparent;\n",
              "      border-right-color: var(--fill-color);\n",
              "      border-top-color: var(--fill-color);\n",
              "    }\n",
              "    60% {\n",
              "      border-color: transparent;\n",
              "      border-right-color: var(--fill-color);\n",
              "    }\n",
              "    80% {\n",
              "      border-color: transparent;\n",
              "      border-right-color: var(--fill-color);\n",
              "      border-bottom-color: var(--fill-color);\n",
              "    }\n",
              "    90% {\n",
              "      border-color: transparent;\n",
              "      border-bottom-color: var(--fill-color);\n",
              "    }\n",
              "  }\n",
              "</style>\n",
              "\n",
              "  <script>\n",
              "    async function quickchart(key) {\n",
              "      const quickchartButtonEl =\n",
              "        document.querySelector('#' + key + ' button');\n",
              "      quickchartButtonEl.disabled = true;  // To prevent multiple clicks.\n",
              "      quickchartButtonEl.classList.add('colab-df-spinner');\n",
              "      try {\n",
              "        const charts = await google.colab.kernel.invokeFunction(\n",
              "            'suggestCharts', [key], {});\n",
              "      } catch (error) {\n",
              "        console.error('Error during call to suggestCharts:', error);\n",
              "      }\n",
              "      quickchartButtonEl.classList.remove('colab-df-spinner');\n",
              "      quickchartButtonEl.classList.add('colab-df-quickchart-complete');\n",
              "    }\n",
              "    (() => {\n",
              "      let quickchartButtonEl =\n",
              "        document.querySelector('#df-6aaea43d-ec23-4f5d-a713-e70a6d23b527 button');\n",
              "      quickchartButtonEl.style.display =\n",
              "        google.colab.kernel.accessAllowed ? 'block' : 'none';\n",
              "    })();\n",
              "  </script>\n",
              "</div>\n",
              "    </div>\n",
              "  </div>\n"
            ],
            "application/vnd.google.colaboratory.intrinsic+json": {
              "type": "dataframe",
              "variable_name": "sorted_dataset",
              "summary": "{\n  \"name\": \"sorted_dataset\",\n  \"rows\": 4970,\n  \"fields\": [\n    {\n      \"column\": \"poster\",\n      \"properties\": {\n        \"dtype\": \"category\",\n        \"num_unique_values\": 1,\n        \"samples\": [\n          \"https://m.media-amazon.com/images/S/sash/4FyxwxECzL-U1J8.png\"\n        ],\n        \"semantic_type\": \"\",\n        \"description\": \"\"\n      }\n    },\n    {\n      \"column\": \"title\",\n      \"properties\": {\n        \"dtype\": \"string\",\n        \"num_unique_values\": 4863,\n        \"samples\": [\n          \"The Mask\"\n        ],\n        \"semantic_type\": \"\",\n        \"description\": \"\"\n      }\n    },\n    {\n      \"column\": \"certificate\",\n      \"properties\": {\n        \"dtype\": \"category\",\n        \"num_unique_values\": 15,\n        \"samples\": [\n          \"R\"\n        ],\n        \"semantic_type\": \"\",\n        \"description\": \"\"\n      }\n    },\n    {\n      \"column\": \"runtime\",\n      \"properties\": {\n        \"dtype\": \"category\",\n        \"num_unique_values\": 151,\n        \"samples\": [\n          \"158 min\"\n        ],\n        \"semantic_type\": \"\",\n        \"description\": \"\"\n      }\n    },\n    {\n      \"column\": \"genre\",\n      \"properties\": {\n        \"dtype\": \"category\",\n        \"num_unique_values\": 346,\n        \"samples\": [\n          \"Adventure, Comedy, Crime\"\n        ],\n        \"semantic_type\": \"\",\n        \"description\": \"\"\n      }\n    },\n    {\n      \"column\": \"rating\",\n      \"properties\": {\n        \"dtype\": \"number\",\n        \"std\": 0.967944807473982,\n        \"min\": 1.5,\n        \"max\": 9.3,\n        \"num_unique_values\": 72,\n        \"samples\": [\n          8.8\n        ],\n        \"semantic_type\": \"\",\n        \"description\": \"\"\n      }\n    },\n    {\n      \"column\": \"about\",\n      \"properties\": {\n        \"dtype\": \"string\",\n        \"num_unique_values\": 4946,\n        \"samples\": [\n          \"A retired legal counselor writes a novel hoping to find closure for one of his past unresolved homicide cases and for his unreciprocated love with his superior - both of which still haunt him decades later.\"\n        ],\n        \"semantic_type\": \"\",\n        \"description\": \"\"\n      }\n    },\n    {\n      \"column\": \"director\",\n      \"properties\": {\n        \"dtype\": \"category\",\n        \"num_unique_values\": 1954,\n        \"samples\": [\n          \"Robert Towne\"\n        ],\n        \"semantic_type\": \"\",\n        \"description\": \"\"\n      }\n    },\n    {\n      \"column\": \"stars\",\n      \"properties\": {\n        \"dtype\": \"string\",\n        \"num_unique_values\": 4940,\n        \"samples\": [\n          \"('Denzel Washington',), ('Robert Duvall',), ('Gabriela Oltean',), ('Kimberly Elise',)\"\n        ],\n        \"semantic_type\": \"\",\n        \"description\": \"\"\n      }\n    },\n    {\n      \"column\": \"votes\",\n      \"properties\": {\n        \"dtype\": \"string\",\n        \"num_unique_values\": 4889,\n        \"samples\": [\n          \"60,898\"\n        ],\n        \"semantic_type\": \"\",\n        \"description\": \"\"\n      }\n    },\n    {\n      \"column\": \"gross_earn\",\n      \"properties\": {\n        \"dtype\": \"string\",\n        \"num_unique_values\": 3366,\n        \"samples\": [\n          \"$33.20M\"\n        ],\n        \"semantic_type\": \"\",\n        \"description\": \"\"\n      }\n    },\n    {\n      \"column\": \"runtime_clear\",\n      \"properties\": {\n        \"dtype\": \"number\",\n        \"std\": 21,\n        \"min\": 45,\n        \"max\": 366,\n        \"num_unique_values\": 151,\n        \"samples\": [\n          158\n        ],\n        \"semantic_type\": \"\",\n        \"description\": \"\"\n      }\n    },\n    {\n      \"column\": \"gross_earn_clear\",\n      \"properties\": {\n        \"dtype\": \"number\",\n        \"std\": 67.11669736593878,\n        \"min\": 0.0,\n        \"max\": 936.66,\n        \"num_unique_values\": 3366,\n        \"samples\": [\n          33.2\n        ],\n        \"semantic_type\": \"\",\n        \"description\": \"\"\n      }\n    }\n  ]\n}"
            }
          },
          "metadata": {},
          "execution_count": 122
        }
      ]
    },
    {
      "cell_type": "markdown",
      "source": [
        "## 8. Сохранение датасета"
      ],
      "metadata": {
        "id": "rfhui4VDeBZ9"
      }
    },
    {
      "cell_type": "markdown",
      "source": [
        "Сохраните датасет под названием movies_clean в формате csv и скачайте его себе на ПК. Он Понадобится Вам при дальнейшем выполнении тренировочных заданий"
      ],
      "metadata": {
        "id": "BM47OTjHv1K_"
      }
    },
    {
      "cell_type": "code",
      "source": [
        "sorted_dataset.to_csv('movies_clean.csv')"
      ],
      "metadata": {
        "id": "mQE36Xmz0z_6"
      },
      "execution_count": null,
      "outputs": []
    },
    {
      "cell_type": "markdown",
      "source": [
        "**Поздравляем! Часть 1 задания по модулю EDA выполнена! Далее Вас ожидает разведочный анализ данных!**"
      ],
      "metadata": {
        "id": "jqnyCEDkwGvN"
      }
    }
  ],
  "metadata": {
    "colab": {
      "provenance": [],
      "include_colab_link": true
    },
    "kernelspec": {
      "display_name": "Python 3",
      "name": "python3"
    },
    "language_info": {
      "name": "python"
    }
  },
  "nbformat": 4,
  "nbformat_minor": 0
}